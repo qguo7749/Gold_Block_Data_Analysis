{
 "cells": [
  {
   "cell_type": "code",
   "execution_count": 21,
   "metadata": {},
   "outputs": [],
   "source": [
    "import numpy as np\n",
    "import copy\n",
    "import json\n",
    "import matplotlib.pyplot as plt\n",
    "import seaborn as sns"
   ]
  },
  {
   "cell_type": "code",
   "execution_count": 2,
   "metadata": {},
   "outputs": [],
   "source": [
    "#calculates sequence of comparisons, whether they swap and number of least necessary comparisons for an array with a certain order (for example: 6 4 3 1 5 2)\n",
    "#_f means forward and _b means backward\n",
    "def imit_seq(array):\n",
    "    aa=copy.copy(array)\n",
    "    comp_seq=[]\n",
    "    swap_or_not=[]\n",
    "    ii_f=0\n",
    "    nn=0\n",
    "    while nn<30:\n",
    "        \n",
    "        if aa[ii_f]<aa[ii_f+1]: #correct ofer and keep going forward\n",
    "            comp_seq.append([ii_f,ii_f+1])\n",
    "            swap_or_not.append(0)\n",
    "            nn+=1\n",
    "            ii_f+=1\n",
    "        else: #switch when going forward\n",
    "            comp_seq.append([ii_f,ii_f+1])\n",
    "            aa[ii_f],aa[ii_f+1]=aa[ii_f+1],aa[ii_f]\n",
    "            swap_or_not.append(1)\n",
    "            nn+=1\n",
    "\n",
    "            ii_b=ii_f\n",
    "            ii_f+=1\n",
    "\n",
    "            while nn<30:\n",
    "                if ii_b==0: #back to position zero\n",
    "                    break\n",
    "                if aa[ii_b-1]>aa[ii_b]: #switch and keep going back\n",
    "                    comp_seq.append([ii_b-1,ii_b])\n",
    "                    swap_or_not.append(1)\n",
    "                    aa[ii_b-1],aa[ii_b]=aa[ii_b],aa[ii_b-1]\n",
    "                    nn+=1\n",
    "                    ii_b-=1\n",
    "                if aa[ii_b-1]<aa[ii_b]: #stop going back\n",
    "                    if ii_b==0:\n",
    "                        break\n",
    "                    else:\n",
    "                        comp_seq.append([ii_b-1,ii_b])\n",
    "                        swap_or_not.append(0)\n",
    "                        nn+=1\n",
    "                        break\n",
    "        if (aa==np.array(range(1, len(array)+1, 1))).all():\n",
    "            if np.array([len(array)-2,len(array)-1]) in np.array(comp_seq):\n",
    "                break\n",
    "    # return array,nn,comp_seq,swap_or_not\n",
    "    return comp_seq\n",
    "\n",
    "\n",
    "\n",
    "\n",
    "# #verify n_nece_compare\n",
    "# arr_test=np.array([6,4,3,1,5,2]) #13\n",
    "# arr_test=np.array([1, 2, 3, 4, 8, 7, 6, 5])\n",
    "# # arr_test=np.array([2,1,4,3,6,5]) #7\n",
    "# # arr_test=np.array([4,6,3,2,5,1]) #13\n",
    "\n",
    "# print(imit_seq(arr_test))"
   ]
  },
  {
   "cell_type": "code",
   "execution_count": 3,
   "metadata": {},
   "outputs": [
    {
     "data": {
      "text/plain": [
       "<duckdb.duckdb.DuckDBPyConnection at 0x1ee0ebc7e70>"
      ]
     },
     "execution_count": 3,
     "metadata": {},
     "output_type": "execute_result"
    }
   ],
   "source": [
    "import duckdb\n",
    "import pandas as pd\n",
    "\n",
    "# Read the CSV file\n",
    "participants = pd.read_csv('data/participants.csv')  \n",
    "comparisons = pd.read_csv('data/comparisons.csv')  \n",
    "orderings = pd.read_csv('data/orderings.csv')  \n",
    "networks = pd.read_csv('data/networks.csv')  \n",
    "\n",
    "# Create a DuckDB connection\n",
    "con = duckdb.connect()\n",
    "\n",
    "# Register the dataframe as a table\n",
    "con.register('participants', participants)\n",
    "con.register('comparisons', comparisons)\n",
    "con.register('orderings', orderings)\n",
    "con.register('networks', networks)"
   ]
  },
  {
   "cell_type": "code",
   "execution_count": 4,
   "metadata": {},
   "outputs": [
    {
     "data": {
      "application/vnd.microsoft.datawrangler.viewer.v0+json": {
       "columns": [
        {
         "name": "index",
         "rawType": "int64",
         "type": "integer"
        },
        {
         "name": "pid",
         "rawType": "int64",
         "type": "integer"
        },
        {
         "name": "tid",
         "rawType": "int64",
         "type": "integer"
        },
        {
         "name": "initial_order",
         "rawType": "object",
         "type": "unknown"
        },
        {
         "name": "final_order",
         "rawType": "object",
         "type": "unknown"
        },
        {
         "name": "true_pairs",
         "rawType": "object",
         "type": "unknown"
        },
        {
         "name": "pairs",
         "rawType": "object",
         "type": "unknown"
        },
        {
         "name": "similarity",
         "rawType": "object",
         "type": "unknown"
        },
        {
         "name": "score",
         "rawType": "object",
         "type": "unknown"
        }
       ],
       "conversionMethod": "pd.DataFrame",
       "ref": "c30570e6-f0e8-4a78-aaa0-3e39f11581c8",
       "rows": [
        [
         "3",
         "0",
         "3",
         "[5, 1, 3, 6, 4, 2]",
         "[1, 2, 3, 4, 5, 6]",
         null,
         "[[0, 1], [0, 2], [0, 3], [0, 4], [0, 5], [1, 2], [1, 3], [1, 4], [1, 5], [1, 2], [1, 3], [1, 4], [2, 3], [2, 4], [2, 5], [2, 3], [2, 4], [3, 4], [3, 5], [4, 5]]",
         null,
         null
        ],
        [
         "4",
         "0",
         "4",
         "[4, 5, 1, 3, 6, 2]",
         "[1, 2, 3, 4, 5, 6]",
         null,
         "[[0, 1], [0, 2], [0, 1], [0, 3], [0, 4], [0, 5], [1, 2], [1, 3], [1, 2], [1, 4], [1, 5], [1, 2], [1, 3], [1, 4], [2, 3], [2, 4], [2, 5], [2, 3], [2, 4], [3, 4], [3, 5], [4, 5]]",
         null,
         null
        ],
        [
         "5",
         "0",
         "5",
         "[6, 2, 1, 4, 5, 3]",
         "[1, 2, 3, 4, 5, 6]",
         null,
         "[[0, 1], [0, 2], [0, 1], [0, 3], [0, 4], [0, 5], [1, 2], [1, 3], [1, 4], [1, 5], [2, 3], [2, 4], [2, 5], [2, 3], [2, 4], [3, 4], [3, 5], [4, 5]]",
         null,
         null
        ],
        [
         "6",
         "0",
         "6",
         "[1, 5, 2, 6, 4, 3]",
         "[1, 2, 3, 4, 5, 6]",
         null,
         "[[0, 1], [0, 2], [0, 3], [0, 4], [0, 5], [1, 2], [1, 3], [1, 4], [1, 5], [2, 3], [2, 4], [2, 3], [2, 5], [2, 4], [2, 3], [3, 4], [3, 5], [3, 4], [4, 5]]",
         null,
         null
        ],
        [
         "7",
         "0",
         "7",
         "[2, 1, 4, 3, 6, 5]",
         "[1, 2, 3, 4, 5, 6]",
         null,
         "[[0, 1], [0, 2], [0, 3], [0, 4], [0, 5], [1, 2], [1, 3], [1, 4], [1, 5], [1, 5], [2, 3], [2, 4], [2, 5], [3, 4], [3, 5], [4, 5]]",
         null,
         null
        ]
       ],
       "shape": {
        "columns": 8,
        "rows": 5
       }
      },
      "text/html": [
       "<div>\n",
       "<style scoped>\n",
       "    .dataframe tbody tr th:only-of-type {\n",
       "        vertical-align: middle;\n",
       "    }\n",
       "\n",
       "    .dataframe tbody tr th {\n",
       "        vertical-align: top;\n",
       "    }\n",
       "\n",
       "    .dataframe thead th {\n",
       "        text-align: right;\n",
       "    }\n",
       "</style>\n",
       "<table border=\"1\" class=\"dataframe\">\n",
       "  <thead>\n",
       "    <tr style=\"text-align: right;\">\n",
       "      <th></th>\n",
       "      <th>pid</th>\n",
       "      <th>tid</th>\n",
       "      <th>initial_order</th>\n",
       "      <th>final_order</th>\n",
       "      <th>true_pairs</th>\n",
       "      <th>pairs</th>\n",
       "      <th>similarity</th>\n",
       "      <th>score</th>\n",
       "    </tr>\n",
       "  </thead>\n",
       "  <tbody>\n",
       "    <tr>\n",
       "      <th>3</th>\n",
       "      <td>0</td>\n",
       "      <td>3</td>\n",
       "      <td>[5, 1, 3, 6, 4, 2]</td>\n",
       "      <td>[1, 2, 3, 4, 5, 6]</td>\n",
       "      <td>None</td>\n",
       "      <td>[[0, 1], [0, 2], [0, 3], [0, 4], [0, 5], [1, 2...</td>\n",
       "      <td>None</td>\n",
       "      <td>None</td>\n",
       "    </tr>\n",
       "    <tr>\n",
       "      <th>4</th>\n",
       "      <td>0</td>\n",
       "      <td>4</td>\n",
       "      <td>[4, 5, 1, 3, 6, 2]</td>\n",
       "      <td>[1, 2, 3, 4, 5, 6]</td>\n",
       "      <td>None</td>\n",
       "      <td>[[0, 1], [0, 2], [0, 1], [0, 3], [0, 4], [0, 5...</td>\n",
       "      <td>None</td>\n",
       "      <td>None</td>\n",
       "    </tr>\n",
       "    <tr>\n",
       "      <th>5</th>\n",
       "      <td>0</td>\n",
       "      <td>5</td>\n",
       "      <td>[6, 2, 1, 4, 5, 3]</td>\n",
       "      <td>[1, 2, 3, 4, 5, 6]</td>\n",
       "      <td>None</td>\n",
       "      <td>[[0, 1], [0, 2], [0, 1], [0, 3], [0, 4], [0, 5...</td>\n",
       "      <td>None</td>\n",
       "      <td>None</td>\n",
       "    </tr>\n",
       "    <tr>\n",
       "      <th>6</th>\n",
       "      <td>0</td>\n",
       "      <td>6</td>\n",
       "      <td>[1, 5, 2, 6, 4, 3]</td>\n",
       "      <td>[1, 2, 3, 4, 5, 6]</td>\n",
       "      <td>None</td>\n",
       "      <td>[[0, 1], [0, 2], [0, 3], [0, 4], [0, 5], [1, 2...</td>\n",
       "      <td>None</td>\n",
       "      <td>None</td>\n",
       "    </tr>\n",
       "    <tr>\n",
       "      <th>7</th>\n",
       "      <td>0</td>\n",
       "      <td>7</td>\n",
       "      <td>[2, 1, 4, 3, 6, 5]</td>\n",
       "      <td>[1, 2, 3, 4, 5, 6]</td>\n",
       "      <td>None</td>\n",
       "      <td>[[0, 1], [0, 2], [0, 3], [0, 4], [0, 5], [1, 2...</td>\n",
       "      <td>None</td>\n",
       "      <td>None</td>\n",
       "    </tr>\n",
       "  </tbody>\n",
       "</table>\n",
       "</div>"
      ],
      "text/plain": [
       "   pid  tid       initial_order         final_order true_pairs  \\\n",
       "3    0    3  [5, 1, 3, 6, 4, 2]  [1, 2, 3, 4, 5, 6]       None   \n",
       "4    0    4  [4, 5, 1, 3, 6, 2]  [1, 2, 3, 4, 5, 6]       None   \n",
       "5    0    5  [6, 2, 1, 4, 5, 3]  [1, 2, 3, 4, 5, 6]       None   \n",
       "6    0    6  [1, 5, 2, 6, 4, 3]  [1, 2, 3, 4, 5, 6]       None   \n",
       "7    0    7  [2, 1, 4, 3, 6, 5]  [1, 2, 3, 4, 5, 6]       None   \n",
       "\n",
       "                                               pairs similarity score  \n",
       "3  [[0, 1], [0, 2], [0, 3], [0, 4], [0, 5], [1, 2...       None  None  \n",
       "4  [[0, 1], [0, 2], [0, 1], [0, 3], [0, 4], [0, 5...       None  None  \n",
       "5  [[0, 1], [0, 2], [0, 1], [0, 3], [0, 4], [0, 5...       None  None  \n",
       "6  [[0, 1], [0, 2], [0, 3], [0, 4], [0, 5], [1, 2...       None  None  \n",
       "7  [[0, 1], [0, 2], [0, 3], [0, 4], [0, 5], [1, 2...       None  None  "
      ]
     },
     "execution_count": 4,
     "metadata": {},
     "output_type": "execute_result"
    }
   ],
   "source": [
    "\n",
    "# 1. Basic overview of participants per participant\n",
    "query1 = \"\"\"\n",
    "CREATE OR REPLACE TABLE Comp_Table AS\n",
    "    SELECT \n",
    "        participant_id as pid,\n",
    "        trial_index as tid,\n",
    "        '[' || string_agg('[' || CAST(image_i_position_index AS VARCHAR) || ',' || CAST(image_j_position_index AS VARCHAR) || ']', ',') || ']' AS pairs\n",
    "    FROM comparisons\n",
    "    GROUP BY pid, tid\n",
    "    ORDER BY pid, tid;\n",
    "\n",
    "CREATE OR REPLACE TABLE Order_Table AS\n",
    "    SELECT \n",
    "        participant_id as pid,\n",
    "        trial_index as tid,\n",
    "        '[' || string_agg( CAST(image_rank AS VARCHAR),',')FILTER (WHERE state = 'initial') || ']' AS initial_order,\n",
    "        '[' || string_agg( CAST(image_rank AS VARCHAR),',') FILTER (WHERE state = 'final') || ']' AS final_order,\n",
    "    FROM orderings\n",
    "    GROUP BY pid, tid\n",
    "    ORDER BY pid, tid;\n",
    "\n",
    "\n",
    "--SELECT *\n",
    "--FROM orders\n",
    "-- WHERE pid=1 and tid=0;\n",
    "\n",
    "CREATE OR REPLACE TABLE Comp_Order_Table AS\n",
    "    SELECT Comp_Table.pid, Comp_Table.tid, Order_Table.initial_order, Order_Table.final_order, Comp_Table.pairs\n",
    "    FROM Comp_Table\n",
    "    LEFT JOIN Order_Table\n",
    "    ON Comp_Table.pid = Order_Table.pid and Comp_Table.tid = Order_Table.tid\n",
    "    --LEFT JOIN Participant_Table\n",
    "    --ON Comp_Table.pid = Participant_Table.pid\n",
    "    ORDER BY Comp_Table.pid, Comp_Table.tid;\n",
    "\n",
    "\n",
    "SELECT *\n",
    "FROM Comp_Order_Table\n",
    "\n",
    "\"\"\"\n",
    "\n",
    "# Execute queries\n",
    "results1 = con.execute(query1).df()\n",
    "\n",
    "results1=results1[results1['tid']>2]\n",
    "\n",
    "\n",
    "# Add empty columns\n",
    "results1.insert(4,\"true_pairs\",None)\n",
    "results1.insert(6,\"similarity\",None)\n",
    "results1.insert(7,\"score\",None)\n",
    "\n",
    "\n",
    "#convert strings to lists\n",
    "for index, row in results1.iterrows():\n",
    "    results1.at[index, 'pairs']=json.loads(row['pairs'])\n",
    "    original=results1.at[index, 'pairs']\n",
    "    for oo in original:\n",
    "        if oo[0]==oo[1]:\n",
    "            original.remove(oo)\n",
    "        if oo[0]>oo[1]:\n",
    "            cache=oo[0]\n",
    "            oo[0]=oo[1]\n",
    "            oo[1]=cache    \n",
    "    results1.at[index, 'initial_order']=json.loads(row['initial_order'])\n",
    "    results1.at[index, 'final_order']=json.loads(row['final_order'])\n",
    "    # results1.at[index, 'gnome_nn']=json.loads(row['gnome_nn'])\n",
    "\n",
    "\n",
    "\n",
    "# Display results\n",
    "results1.head(5)\n",
    "\n"
   ]
  },
  {
   "cell_type": "code",
   "execution_count": 5,
   "metadata": {},
   "outputs": [
    {
     "data": {
      "application/vnd.microsoft.datawrangler.viewer.v0+json": {
       "columns": [
        {
         "name": "index",
         "rawType": "int64",
         "type": "integer"
        },
        {
         "name": "pid",
         "rawType": "int64",
         "type": "integer"
        },
        {
         "name": "generation",
         "rawType": "int64",
         "type": "integer"
        },
        {
         "name": "gnome_nn_01",
         "rawType": "object",
         "type": "unknown"
        },
        {
         "name": "algo_type",
         "rawType": "float64",
         "type": "float"
        },
        {
         "name": "mean_trial_score",
         "rawType": "float64",
         "type": "float"
        }
       ],
       "conversionMethod": "pd.DataFrame",
       "ref": "f5a383b3-91b7-47da-8cc3-a1d9cabaa325",
       "rows": [
        [
         "0",
         "14",
         "0",
         null,
         "0.0",
         "0.0"
        ],
        [
         "1",
         "39",
         "0",
         null,
         "0.0",
         "0.0"
        ],
        [
         "2",
         "67",
         "0",
         null,
         "0.0",
         "0.0"
        ],
        [
         "3",
         "75",
         "0",
         null,
         "0.0",
         "0.0"
        ],
        [
         "4",
         "272",
         "0",
         null,
         "0.0",
         "0.0"
        ]
       ],
       "shape": {
        "columns": 5,
        "rows": 5
       }
      },
      "text/html": [
       "<div>\n",
       "<style scoped>\n",
       "    .dataframe tbody tr th:only-of-type {\n",
       "        vertical-align: middle;\n",
       "    }\n",
       "\n",
       "    .dataframe tbody tr th {\n",
       "        vertical-align: top;\n",
       "    }\n",
       "\n",
       "    .dataframe thead th {\n",
       "        text-align: right;\n",
       "    }\n",
       "</style>\n",
       "<table border=\"1\" class=\"dataframe\">\n",
       "  <thead>\n",
       "    <tr style=\"text-align: right;\">\n",
       "      <th></th>\n",
       "      <th>pid</th>\n",
       "      <th>generation</th>\n",
       "      <th>gnome_nn_01</th>\n",
       "      <th>algo_type</th>\n",
       "      <th>mean_trial_score</th>\n",
       "    </tr>\n",
       "  </thead>\n",
       "  <tbody>\n",
       "    <tr>\n",
       "      <th>0</th>\n",
       "      <td>14</td>\n",
       "      <td>0</td>\n",
       "      <td>None</td>\n",
       "      <td>0.0</td>\n",
       "      <td>0.0</td>\n",
       "    </tr>\n",
       "    <tr>\n",
       "      <th>1</th>\n",
       "      <td>39</td>\n",
       "      <td>0</td>\n",
       "      <td>None</td>\n",
       "      <td>0.0</td>\n",
       "      <td>0.0</td>\n",
       "    </tr>\n",
       "    <tr>\n",
       "      <th>2</th>\n",
       "      <td>67</td>\n",
       "      <td>0</td>\n",
       "      <td>None</td>\n",
       "      <td>0.0</td>\n",
       "      <td>0.0</td>\n",
       "    </tr>\n",
       "    <tr>\n",
       "      <th>3</th>\n",
       "      <td>75</td>\n",
       "      <td>0</td>\n",
       "      <td>None</td>\n",
       "      <td>0.0</td>\n",
       "      <td>0.0</td>\n",
       "    </tr>\n",
       "    <tr>\n",
       "      <th>4</th>\n",
       "      <td>272</td>\n",
       "      <td>0</td>\n",
       "      <td>None</td>\n",
       "      <td>0.0</td>\n",
       "      <td>0.0</td>\n",
       "    </tr>\n",
       "  </tbody>\n",
       "</table>\n",
       "</div>"
      ],
      "text/plain": [
       "   pid  generation gnome_nn_01  algo_type  mean_trial_score\n",
       "0   14           0        None        0.0               0.0\n",
       "1   39           0        None        0.0               0.0\n",
       "2   67           0        None        0.0               0.0\n",
       "3   75           0        None        0.0               0.0\n",
       "4  272           0        None        0.0               0.0"
      ]
     },
     "execution_count": 5,
     "metadata": {},
     "output_type": "execute_result"
    }
   ],
   "source": [
    "#query participant id and whether they used gnome sort from Participants.csv\n",
    "query =\"\"\"\n",
    "CREATE OR REPLACE TABLE Participant_Table AS\n",
    "    SELECT \n",
    "        participant_id as pid,\n",
    "        generation as generation,\n",
    "        algorithm  AS algo_type,\n",
    "        mean_trial_score,\n",
    "    FROM participants;\n",
    "\n",
    "SELECT *\n",
    "FROM Participant_Table;\n",
    "    \"\"\"\n",
    "pid_algo = con.execute(query).df() #whether the participant used gnome sort based on neural network\n",
    "pid_algo.insert(2,\"gnome_nn_01\",None) #insert a column for whether neural network judge this participants use gnome (1) or not (0)\n",
    "\n",
    "# Display results\n",
    "pid_algo.head(5)"
   ]
  },
  {
   "cell_type": "code",
   "execution_count": 6,
   "metadata": {},
   "outputs": [
    {
     "data": {
      "application/vnd.microsoft.datawrangler.viewer.v0+json": {
       "columns": [
        {
         "name": "index",
         "rawType": "int64",
         "type": "integer"
        },
        {
         "name": "pid",
         "rawType": "int64",
         "type": "integer"
        },
        {
         "name": "generation",
         "rawType": "int64",
         "type": "integer"
        },
        {
         "name": "gnome_nn_01",
         "rawType": "object",
         "type": "unknown"
        },
        {
         "name": "algo_type",
         "rawType": "float64",
         "type": "float"
        },
        {
         "name": "mean_trial_score",
         "rawType": "float64",
         "type": "float"
        }
       ],
       "conversionMethod": "pd.DataFrame",
       "ref": "af889c9d-b0ad-4832-a5d3-1aed402b423f",
       "rows": [
        [
         "0",
         "14",
         "0",
         "0",
         "0.0",
         "0.0"
        ],
        [
         "1",
         "39",
         "0",
         "0",
         "0.0",
         "0.0"
        ],
        [
         "2",
         "67",
         "0",
         "0",
         "0.0",
         "0.0"
        ],
        [
         "3",
         "75",
         "0",
         "0",
         "0.0",
         "0.0"
        ],
        [
         "4",
         "272",
         "0",
         "0",
         "0.0",
         "0.0"
        ],
        [
         "5",
         "292",
         "0",
         "0",
         "0.0",
         "0.0"
        ],
        [
         "6",
         "320",
         "0",
         "0",
         "0.0",
         "0.0"
        ],
        [
         "7",
         "1805",
         "0",
         "0",
         "0.0",
         "0.0"
        ],
        [
         "8",
         "1813",
         "0",
         "0",
         "0.0",
         "0.0"
        ],
        [
         "9",
         "1821",
         "0",
         "0",
         "0.0",
         "0.0"
        ],
        [
         "10",
         "1869",
         "0",
         "0",
         "0.0",
         "0.0"
        ],
        [
         "11",
         "2100",
         "0",
         "0",
         "0.0",
         "0.0"
        ],
        [
         "12",
         "2103",
         "0",
         "0",
         "0.0",
         "0.0"
        ],
        [
         "13",
         "2129",
         "0",
         "0",
         "0.0",
         "0.0"
        ],
        [
         "14",
         "88",
         "0",
         "0",
         "0.0",
         "0.0295124851367419"
        ],
        [
         "15",
         "1852",
         "0",
         "0",
         "0.0",
         "0.0295124851367419"
        ],
        [
         "16",
         "83",
         "0",
         "0",
         "0.0",
         "0.038140589569161"
        ],
        [
         "17",
         "1856",
         "0",
         "0",
         "0.0",
         "0.038140589569161"
        ],
        [
         "18",
         "283",
         "0",
         "0",
         "0.0",
         "0.04"
        ],
        [
         "19",
         "2127",
         "0",
         "0",
         "0.0",
         "0.04"
        ],
        [
         "20",
         "19",
         "0",
         "0",
         "0.0",
         "0.0446913580246913"
        ],
        [
         "21",
         "1838",
         "0",
         "0",
         "0.0",
         "0.0446913580246913"
        ],
        [
         "22",
         "15",
         "0",
         "0",
         "0.0",
         "0.0476816608996539"
        ],
        [
         "23",
         "1875",
         "0",
         "0",
         "0.0",
         "0.0476816608996539"
        ],
        [
         "24",
         "42",
         "0",
         "0",
         "0.0",
         "0.0578"
        ],
        [
         "25",
         "1847",
         "0",
         "0",
         "0.0",
         "0.0578"
        ],
        [
         "26",
         "270",
         "0",
         "0",
         "0.0",
         "0.0673372781065088"
        ],
        [
         "27",
         "2083",
         "0",
         "0",
         "0.0",
         "0.0673372781065088"
        ],
        [
         "28",
         "56",
         "0",
         "0",
         "0.0",
         "0.081211017179971"
        ],
        [
         "29",
         "1872",
         "0",
         "0",
         "0.0",
         "0.081211017179971"
        ],
        [
         "30",
         "326",
         "0",
         "0",
         "0.0",
         "0.0923730189243453"
        ],
        [
         "31",
         "2085",
         "0",
         "0",
         "0.0",
         "0.0923730189243453"
        ],
        [
         "32",
         "314",
         "0",
         "0",
         "0.0",
         "0.0993186081016768"
        ],
        [
         "33",
         "2121",
         "0",
         "0",
         "0.0",
         "0.0993186081016768"
        ],
        [
         "34",
         "281",
         "0",
         "0",
         "0.0",
         "0.1"
        ],
        [
         "35",
         "2114",
         "0",
         "0",
         "0.0",
         "0.1"
        ],
        [
         "36",
         "279",
         "0",
         "0",
         "0.0",
         "0.1232372164552095"
        ],
        [
         "37",
         "2107",
         "0",
         "0",
         "0.0",
         "0.1232372164552095"
        ],
        [
         "38",
         "325",
         "0",
         "0",
         "0.0",
         "0.1324255518985841"
        ],
        [
         "39",
         "2070",
         "0",
         "0",
         "0.0",
         "0.1324255518985841"
        ],
        [
         "40",
         "282",
         "0",
         "0",
         "0.0",
         "0.138140589569161"
        ],
        [
         "41",
         "2122",
         "0",
         "0",
         "0.0",
         "0.138140589569161"
        ],
        [
         "42",
         "26",
         "0",
         "0",
         "0.0",
         "0.1393965734441924"
        ],
        [
         "43",
         "1853",
         "0",
         "0",
         "0.0",
         "0.1393965734441924"
        ],
        [
         "44",
         "63",
         "0",
         "0",
         "0.0",
         "0.1512208504801097"
        ],
        [
         "45",
         "1878",
         "0",
         "0",
         "0.0",
         "0.1512208504801097"
        ],
        [
         "46",
         "284",
         "0",
         "0",
         "0.0",
         "0.1571796038261074"
        ],
        [
         "47",
         "2118",
         "0",
         "0",
         "0.0",
         "0.1571796038261074"
        ],
        [
         "48",
         "7",
         "0",
         "0",
         "0.0",
         "0.1597732426303854"
        ],
        [
         "49",
         "1826",
         "0",
         "0",
         "0.0",
         "0.1597732426303854"
        ]
       ],
       "shape": {
        "columns": 5,
        "rows": 3600
       }
      },
      "text/html": [
       "<div>\n",
       "<style scoped>\n",
       "    .dataframe tbody tr th:only-of-type {\n",
       "        vertical-align: middle;\n",
       "    }\n",
       "\n",
       "    .dataframe tbody tr th {\n",
       "        vertical-align: top;\n",
       "    }\n",
       "\n",
       "    .dataframe thead th {\n",
       "        text-align: right;\n",
       "    }\n",
       "</style>\n",
       "<table border=\"1\" class=\"dataframe\">\n",
       "  <thead>\n",
       "    <tr style=\"text-align: right;\">\n",
       "      <th></th>\n",
       "      <th>pid</th>\n",
       "      <th>generation</th>\n",
       "      <th>gnome_nn_01</th>\n",
       "      <th>algo_type</th>\n",
       "      <th>mean_trial_score</th>\n",
       "    </tr>\n",
       "  </thead>\n",
       "  <tbody>\n",
       "    <tr>\n",
       "      <th>0</th>\n",
       "      <td>14</td>\n",
       "      <td>0</td>\n",
       "      <td>0</td>\n",
       "      <td>0.0</td>\n",
       "      <td>0.000000</td>\n",
       "    </tr>\n",
       "    <tr>\n",
       "      <th>1</th>\n",
       "      <td>39</td>\n",
       "      <td>0</td>\n",
       "      <td>0</td>\n",
       "      <td>0.0</td>\n",
       "      <td>0.000000</td>\n",
       "    </tr>\n",
       "    <tr>\n",
       "      <th>2</th>\n",
       "      <td>67</td>\n",
       "      <td>0</td>\n",
       "      <td>0</td>\n",
       "      <td>0.0</td>\n",
       "      <td>0.000000</td>\n",
       "    </tr>\n",
       "    <tr>\n",
       "      <th>3</th>\n",
       "      <td>75</td>\n",
       "      <td>0</td>\n",
       "      <td>0</td>\n",
       "      <td>0.0</td>\n",
       "      <td>0.000000</td>\n",
       "    </tr>\n",
       "    <tr>\n",
       "      <th>4</th>\n",
       "      <td>272</td>\n",
       "      <td>0</td>\n",
       "      <td>0</td>\n",
       "      <td>0.0</td>\n",
       "      <td>0.000000</td>\n",
       "    </tr>\n",
       "    <tr>\n",
       "      <th>...</th>\n",
       "      <td>...</td>\n",
       "      <td>...</td>\n",
       "      <td>...</td>\n",
       "      <td>...</td>\n",
       "      <td>...</td>\n",
       "    </tr>\n",
       "    <tr>\n",
       "      <th>3595</th>\n",
       "      <td>3474</td>\n",
       "      <td>11</td>\n",
       "      <td>1</td>\n",
       "      <td>1.0</td>\n",
       "      <td>0.818448</td>\n",
       "    </tr>\n",
       "    <tr>\n",
       "      <th>3596</th>\n",
       "      <td>3523</td>\n",
       "      <td>11</td>\n",
       "      <td>1</td>\n",
       "      <td>1.0</td>\n",
       "      <td>0.830143</td>\n",
       "    </tr>\n",
       "    <tr>\n",
       "      <th>3597</th>\n",
       "      <td>3579</td>\n",
       "      <td>11</td>\n",
       "      <td>1</td>\n",
       "      <td>1.0</td>\n",
       "      <td>0.833903</td>\n",
       "    </tr>\n",
       "    <tr>\n",
       "      <th>3598</th>\n",
       "      <td>3538</td>\n",
       "      <td>11</td>\n",
       "      <td>1</td>\n",
       "      <td>1.0</td>\n",
       "      <td>0.843039</td>\n",
       "    </tr>\n",
       "    <tr>\n",
       "      <th>3599</th>\n",
       "      <td>3522</td>\n",
       "      <td>11</td>\n",
       "      <td>1</td>\n",
       "      <td>1.0</td>\n",
       "      <td>0.844133</td>\n",
       "    </tr>\n",
       "  </tbody>\n",
       "</table>\n",
       "<p>3600 rows × 5 columns</p>\n",
       "</div>"
      ],
      "text/plain": [
       "       pid  generation gnome_nn_01  algo_type  mean_trial_score\n",
       "0       14           0           0        0.0          0.000000\n",
       "1       39           0           0        0.0          0.000000\n",
       "2       67           0           0        0.0          0.000000\n",
       "3       75           0           0        0.0          0.000000\n",
       "4      272           0           0        0.0          0.000000\n",
       "...    ...         ...         ...        ...               ...\n",
       "3595  3474          11           1        1.0          0.818448\n",
       "3596  3523          11           1        1.0          0.830143\n",
       "3597  3579          11           1        1.0          0.833903\n",
       "3598  3538          11           1        1.0          0.843039\n",
       "3599  3522          11           1        1.0          0.844133\n",
       "\n",
       "[3600 rows x 5 columns]"
      ]
     },
     "execution_count": 6,
     "metadata": {},
     "output_type": "execute_result"
    }
   ],
   "source": [
    "\n",
    "for index, row in pid_algo.iterrows():\n",
    "    # results1.at[index, 'algo_type']=json.loads(row['algo_type'])\n",
    "    pid_algo.at[index, 'gnome_nn_01'] = 1 if row['algo_type']==1.0 else 0\n",
    "pid_algo"
   ]
  },
  {
   "cell_type": "code",
   "execution_count": 7,
   "metadata": {},
   "outputs": [
    {
     "data": {
      "application/vnd.microsoft.datawrangler.viewer.v0+json": {
       "columns": [
        {
         "name": "index",
         "rawType": "int64",
         "type": "integer"
        },
        {
         "name": "pid",
         "rawType": "int64",
         "type": "integer"
        },
        {
         "name": "tid",
         "rawType": "int64",
         "type": "integer"
        },
        {
         "name": "initial_order",
         "rawType": "object",
         "type": "unknown"
        },
        {
         "name": "final_order",
         "rawType": "object",
         "type": "unknown"
        },
        {
         "name": "true_pairs",
         "rawType": "object",
         "type": "unknown"
        },
        {
         "name": "pairs",
         "rawType": "object",
         "type": "unknown"
        },
        {
         "name": "similarity",
         "rawType": "object",
         "type": "unknown"
        },
        {
         "name": "score",
         "rawType": "object",
         "type": "unknown"
        }
       ],
       "conversionMethod": "pd.DataFrame",
       "ref": "fafdceaf-c25b-4324-b4b9-a56ac2a45b16",
       "rows": [
        [
         "23793",
         "1855",
         "3",
         "[1, 3, 4, 6, 2, 5]",
         "[1, 2, 3, 4, 5, 6]",
         "[[0, 1], [1, 2], [2, 3], [3, 4], [2, 3], [1, 2], [0, 1], [4, 5], [3, 4]]",
         "[[0, 1], [0, 1], [0, 2], [0, 2], [0, 3], [0, 3], [0, 3], [0, 4], [0, 5], [1, 2], [1, 3], [1, 4], [1, 5], [1, 2], [2, 3], [2, 4], [2, 5], [3, 4], [3, 5], [4, 5]]",
         null,
         null
        ],
        [
         "23794",
         "1855",
         "4",
         "[2, 4, 1, 6, 5, 3]",
         "[1, 2, 3, 5, 6, 4]",
         "[[0, 1], [1, 2], [0, 1], [2, 3], [3, 4], [2, 3], [4, 5], [3, 4], [2, 3], [1, 2]]",
         "[[0, 1], [0, 2], [0, 3], [0, 4], [0, 5], [1, 2], [2, 3], [2, 4], [2, 5], [3, 4]]",
         null,
         null
        ],
        [
         "23795",
         "1855",
         "5",
         "[4, 1, 3, 2, 5, 6]",
         "[1, 3, 2, 4, 5, 6]",
         "[[0, 1], [1, 2], [0, 1], [2, 3], [1, 2], [0, 1], [3, 4], [4, 5]]",
         "[[0, 1], [1, 2], [2, 3], [3, 4], [3, 5], [4, 5]]",
         null,
         null
        ],
        [
         "23796",
         "1855",
         "6",
         "[1, 3, 6, 5, 2, 4]",
         "[1, 2, 5, 3, 4, 6]",
         "[[0, 1], [1, 2], [2, 3], [1, 2], [3, 4], [2, 3], [1, 2], [0, 1], [4, 5], [3, 4], [2, 3]]",
         "[[0, 1], [0, 2], [0, 3], [0, 4], [0, 5], [0, 1], [0, 1], [1, 2], [1, 3], [1, 4], [1, 2], [2, 3], [3, 4], [4, 5]]",
         null,
         null
        ],
        [
         "23797",
         "1855",
         "7",
         "[5, 4, 2, 1, 3, 6]",
         "[1, 2, 3, 4, 5, 6]",
         "[[0, 1], [1, 2], [0, 1], [2, 3], [1, 2], [0, 1], [3, 4], [2, 3], [1, 2], [4, 5]]",
         "[[0, 1], [0, 2], [0, 3], [0, 4], [0, 5], [1, 2], [1, 3], [1, 4], [1, 5], [2, 3], [2, 4], [2, 5], [3, 4], [3, 5], [4, 5]]",
         null,
         null
        ],
        [
         "23798",
         "1855",
         "8",
         "[1, 4, 5, 6, 2, 3]",
         "[1, 2, 3, 4, 5, 6]",
         "[[0, 1], [1, 2], [2, 3], [3, 4], [2, 3], [1, 2], [0, 1], [4, 5], [3, 4], [2, 3], [1, 2]]",
         "[[0, 1], [0, 2], [0, 3], [0, 4], [0, 5], [1, 2], [1, 3], [1, 4], [1, 5], [2, 3], [2, 4], [2, 5], [2, 3], [3, 4], [3, 5], [4, 5]]",
         null,
         null
        ],
        [
         "23799",
         "1855",
         "9",
         "[3, 2, 1, 5, 6, 4]",
         "[1, 2, 3, 4, 5, 6]",
         "[[0, 1], [1, 2], [0, 1], [2, 3], [3, 4], [4, 5], [3, 4], [2, 3]]",
         "[[0, 1], [0, 2], [0, 3], [0, 4], [0, 5], [1, 2], [1, 3], [1, 4], [1, 5], [2, 3], [2, 4], [2, 5], [3, 4], [3, 5], [4, 5]]",
         null,
         null
        ],
        [
         "23800",
         "1855",
         "10",
         "[4, 2, 6, 1, 5, 3]",
         "[1, 2, 3, 4, 5, 6]",
         "[[0, 1], [1, 2], [2, 3], [1, 2], [0, 1], [3, 4], [2, 3], [4, 5], [3, 4], [2, 3], [1, 2]]",
         "[[0, 1], [0, 2], [0, 3], [0, 4], [0, 5], [0, 1], [0, 1], [1, 2], [1, 3], [1, 4], [1, 5], [2, 3], [2, 4], [2, 5], [3, 4], [3, 5], [4, 5]]",
         null,
         null
        ],
        [
         "23801",
         "1855",
         "11",
         "[1, 5, 2, 4, 3, 6]",
         "[1, 2, 3, 4, 5, 6]",
         "[[0, 1], [1, 2], [0, 1], [2, 3], [1, 2], [3, 4], [2, 3], [1, 2], [4, 5]]",
         "[[0, 1], [0, 2], [0, 3], [0, 4], [0, 5], [1, 2], [1, 3], [1, 4], [1, 5], [2, 3], [2, 4], [2, 5], [3, 4], [3, 5], [4, 5]]",
         null,
         null
        ],
        [
         "23802",
         "1855",
         "12",
         "[3, 2, 6, 1, 5, 4]",
         "[1, 2, 3, 4, 5, 6]",
         "[[0, 1], [1, 2], [2, 3], [1, 2], [0, 1], [3, 4], [2, 3], [4, 5], [3, 4], [2, 3]]",
         "[[0, 1], [0, 2], [0, 3], [0, 4], [0, 5], [1, 2], [1, 3], [1, 4], [1, 5], [2, 3], [2, 4], [2, 5], [3, 4], [3, 5], [4, 5]]",
         null,
         null
        ]
       ],
       "shape": {
        "columns": 8,
        "rows": 10
       }
      },
      "text/html": [
       "<div>\n",
       "<style scoped>\n",
       "    .dataframe tbody tr th:only-of-type {\n",
       "        vertical-align: middle;\n",
       "    }\n",
       "\n",
       "    .dataframe tbody tr th {\n",
       "        vertical-align: top;\n",
       "    }\n",
       "\n",
       "    .dataframe thead th {\n",
       "        text-align: right;\n",
       "    }\n",
       "</style>\n",
       "<table border=\"1\" class=\"dataframe\">\n",
       "  <thead>\n",
       "    <tr style=\"text-align: right;\">\n",
       "      <th></th>\n",
       "      <th>pid</th>\n",
       "      <th>tid</th>\n",
       "      <th>initial_order</th>\n",
       "      <th>final_order</th>\n",
       "      <th>true_pairs</th>\n",
       "      <th>pairs</th>\n",
       "      <th>similarity</th>\n",
       "      <th>score</th>\n",
       "    </tr>\n",
       "  </thead>\n",
       "  <tbody>\n",
       "    <tr>\n",
       "      <th>23793</th>\n",
       "      <td>1855</td>\n",
       "      <td>3</td>\n",
       "      <td>[1, 3, 4, 6, 2, 5]</td>\n",
       "      <td>[1, 2, 3, 4, 5, 6]</td>\n",
       "      <td>[[0, 1], [1, 2], [2, 3], [3, 4], [2, 3], [1, 2...</td>\n",
       "      <td>[[0, 1], [0, 1], [0, 2], [0, 2], [0, 3], [0, 3...</td>\n",
       "      <td>None</td>\n",
       "      <td>None</td>\n",
       "    </tr>\n",
       "    <tr>\n",
       "      <th>23794</th>\n",
       "      <td>1855</td>\n",
       "      <td>4</td>\n",
       "      <td>[2, 4, 1, 6, 5, 3]</td>\n",
       "      <td>[1, 2, 3, 5, 6, 4]</td>\n",
       "      <td>[[0, 1], [1, 2], [0, 1], [2, 3], [3, 4], [2, 3...</td>\n",
       "      <td>[[0, 1], [0, 2], [0, 3], [0, 4], [0, 5], [1, 2...</td>\n",
       "      <td>None</td>\n",
       "      <td>None</td>\n",
       "    </tr>\n",
       "    <tr>\n",
       "      <th>23795</th>\n",
       "      <td>1855</td>\n",
       "      <td>5</td>\n",
       "      <td>[4, 1, 3, 2, 5, 6]</td>\n",
       "      <td>[1, 3, 2, 4, 5, 6]</td>\n",
       "      <td>[[0, 1], [1, 2], [0, 1], [2, 3], [1, 2], [0, 1...</td>\n",
       "      <td>[[0, 1], [1, 2], [2, 3], [3, 4], [3, 5], [4, 5]]</td>\n",
       "      <td>None</td>\n",
       "      <td>None</td>\n",
       "    </tr>\n",
       "    <tr>\n",
       "      <th>23796</th>\n",
       "      <td>1855</td>\n",
       "      <td>6</td>\n",
       "      <td>[1, 3, 6, 5, 2, 4]</td>\n",
       "      <td>[1, 2, 5, 3, 4, 6]</td>\n",
       "      <td>[[0, 1], [1, 2], [2, 3], [1, 2], [3, 4], [2, 3...</td>\n",
       "      <td>[[0, 1], [0, 2], [0, 3], [0, 4], [0, 5], [0, 1...</td>\n",
       "      <td>None</td>\n",
       "      <td>None</td>\n",
       "    </tr>\n",
       "    <tr>\n",
       "      <th>23797</th>\n",
       "      <td>1855</td>\n",
       "      <td>7</td>\n",
       "      <td>[5, 4, 2, 1, 3, 6]</td>\n",
       "      <td>[1, 2, 3, 4, 5, 6]</td>\n",
       "      <td>[[0, 1], [1, 2], [0, 1], [2, 3], [1, 2], [0, 1...</td>\n",
       "      <td>[[0, 1], [0, 2], [0, 3], [0, 4], [0, 5], [1, 2...</td>\n",
       "      <td>None</td>\n",
       "      <td>None</td>\n",
       "    </tr>\n",
       "    <tr>\n",
       "      <th>23798</th>\n",
       "      <td>1855</td>\n",
       "      <td>8</td>\n",
       "      <td>[1, 4, 5, 6, 2, 3]</td>\n",
       "      <td>[1, 2, 3, 4, 5, 6]</td>\n",
       "      <td>[[0, 1], [1, 2], [2, 3], [3, 4], [2, 3], [1, 2...</td>\n",
       "      <td>[[0, 1], [0, 2], [0, 3], [0, 4], [0, 5], [1, 2...</td>\n",
       "      <td>None</td>\n",
       "      <td>None</td>\n",
       "    </tr>\n",
       "    <tr>\n",
       "      <th>23799</th>\n",
       "      <td>1855</td>\n",
       "      <td>9</td>\n",
       "      <td>[3, 2, 1, 5, 6, 4]</td>\n",
       "      <td>[1, 2, 3, 4, 5, 6]</td>\n",
       "      <td>[[0, 1], [1, 2], [0, 1], [2, 3], [3, 4], [4, 5...</td>\n",
       "      <td>[[0, 1], [0, 2], [0, 3], [0, 4], [0, 5], [1, 2...</td>\n",
       "      <td>None</td>\n",
       "      <td>None</td>\n",
       "    </tr>\n",
       "    <tr>\n",
       "      <th>23800</th>\n",
       "      <td>1855</td>\n",
       "      <td>10</td>\n",
       "      <td>[4, 2, 6, 1, 5, 3]</td>\n",
       "      <td>[1, 2, 3, 4, 5, 6]</td>\n",
       "      <td>[[0, 1], [1, 2], [2, 3], [1, 2], [0, 1], [3, 4...</td>\n",
       "      <td>[[0, 1], [0, 2], [0, 3], [0, 4], [0, 5], [0, 1...</td>\n",
       "      <td>None</td>\n",
       "      <td>None</td>\n",
       "    </tr>\n",
       "    <tr>\n",
       "      <th>23801</th>\n",
       "      <td>1855</td>\n",
       "      <td>11</td>\n",
       "      <td>[1, 5, 2, 4, 3, 6]</td>\n",
       "      <td>[1, 2, 3, 4, 5, 6]</td>\n",
       "      <td>[[0, 1], [1, 2], [0, 1], [2, 3], [1, 2], [3, 4...</td>\n",
       "      <td>[[0, 1], [0, 2], [0, 3], [0, 4], [0, 5], [1, 2...</td>\n",
       "      <td>None</td>\n",
       "      <td>None</td>\n",
       "    </tr>\n",
       "    <tr>\n",
       "      <th>23802</th>\n",
       "      <td>1855</td>\n",
       "      <td>12</td>\n",
       "      <td>[3, 2, 6, 1, 5, 4]</td>\n",
       "      <td>[1, 2, 3, 4, 5, 6]</td>\n",
       "      <td>[[0, 1], [1, 2], [2, 3], [1, 2], [0, 1], [3, 4...</td>\n",
       "      <td>[[0, 1], [0, 2], [0, 3], [0, 4], [0, 5], [1, 2...</td>\n",
       "      <td>None</td>\n",
       "      <td>None</td>\n",
       "    </tr>\n",
       "  </tbody>\n",
       "</table>\n",
       "</div>"
      ],
      "text/plain": [
       "        pid  tid       initial_order         final_order  \\\n",
       "23793  1855    3  [1, 3, 4, 6, 2, 5]  [1, 2, 3, 4, 5, 6]   \n",
       "23794  1855    4  [2, 4, 1, 6, 5, 3]  [1, 2, 3, 5, 6, 4]   \n",
       "23795  1855    5  [4, 1, 3, 2, 5, 6]  [1, 3, 2, 4, 5, 6]   \n",
       "23796  1855    6  [1, 3, 6, 5, 2, 4]  [1, 2, 5, 3, 4, 6]   \n",
       "23797  1855    7  [5, 4, 2, 1, 3, 6]  [1, 2, 3, 4, 5, 6]   \n",
       "23798  1855    8  [1, 4, 5, 6, 2, 3]  [1, 2, 3, 4, 5, 6]   \n",
       "23799  1855    9  [3, 2, 1, 5, 6, 4]  [1, 2, 3, 4, 5, 6]   \n",
       "23800  1855   10  [4, 2, 6, 1, 5, 3]  [1, 2, 3, 4, 5, 6]   \n",
       "23801  1855   11  [1, 5, 2, 4, 3, 6]  [1, 2, 3, 4, 5, 6]   \n",
       "23802  1855   12  [3, 2, 6, 1, 5, 4]  [1, 2, 3, 4, 5, 6]   \n",
       "\n",
       "                                              true_pairs  \\\n",
       "23793  [[0, 1], [1, 2], [2, 3], [3, 4], [2, 3], [1, 2...   \n",
       "23794  [[0, 1], [1, 2], [0, 1], [2, 3], [3, 4], [2, 3...   \n",
       "23795  [[0, 1], [1, 2], [0, 1], [2, 3], [1, 2], [0, 1...   \n",
       "23796  [[0, 1], [1, 2], [2, 3], [1, 2], [3, 4], [2, 3...   \n",
       "23797  [[0, 1], [1, 2], [0, 1], [2, 3], [1, 2], [0, 1...   \n",
       "23798  [[0, 1], [1, 2], [2, 3], [3, 4], [2, 3], [1, 2...   \n",
       "23799  [[0, 1], [1, 2], [0, 1], [2, 3], [3, 4], [4, 5...   \n",
       "23800  [[0, 1], [1, 2], [2, 3], [1, 2], [0, 1], [3, 4...   \n",
       "23801  [[0, 1], [1, 2], [0, 1], [2, 3], [1, 2], [3, 4...   \n",
       "23802  [[0, 1], [1, 2], [2, 3], [1, 2], [0, 1], [3, 4...   \n",
       "\n",
       "                                                   pairs similarity score  \n",
       "23793  [[0, 1], [0, 1], [0, 2], [0, 2], [0, 3], [0, 3...       None  None  \n",
       "23794  [[0, 1], [0, 2], [0, 3], [0, 4], [0, 5], [1, 2...       None  None  \n",
       "23795   [[0, 1], [1, 2], [2, 3], [3, 4], [3, 5], [4, 5]]       None  None  \n",
       "23796  [[0, 1], [0, 2], [0, 3], [0, 4], [0, 5], [0, 1...       None  None  \n",
       "23797  [[0, 1], [0, 2], [0, 3], [0, 4], [0, 5], [1, 2...       None  None  \n",
       "23798  [[0, 1], [0, 2], [0, 3], [0, 4], [0, 5], [1, 2...       None  None  \n",
       "23799  [[0, 1], [0, 2], [0, 3], [0, 4], [0, 5], [1, 2...       None  None  \n",
       "23800  [[0, 1], [0, 2], [0, 3], [0, 4], [0, 5], [0, 1...       None  None  \n",
       "23801  [[0, 1], [0, 2], [0, 3], [0, 4], [0, 5], [1, 2...       None  None  \n",
       "23802  [[0, 1], [0, 2], [0, 3], [0, 4], [0, 5], [1, 2...       None  None  "
      ]
     },
     "execution_count": 7,
     "metadata": {},
     "output_type": "execute_result"
    }
   ],
   "source": [
    "for index, row in results1.iterrows():\n",
    "    \n",
    "    # order_ini = json.loads(row['initial_order'])\n",
    "    # true_pairs_array = imit_seq(np.array(order_ini))\n",
    "    # results1.at[index, 'true_pairs'] = true_pairs_array\n",
    "    # results1.at[index, 'pairs'] = json.loads(row['pairs'])\n",
    "\n",
    "    order_ini = row['initial_order']\n",
    "    true_pairs_array = imit_seq(np.array(order_ini))\n",
    "    results1.at[index, 'true_pairs'] = true_pairs_array\n",
    "    # results1.at[index, 'gnome_nn_01'] = 1 if row['algo_type']==1.0 else 0\n",
    "\n",
    "results1[results1['pid']==1855]"
   ]
  },
  {
   "cell_type": "code",
   "execution_count": 8,
   "metadata": {},
   "outputs": [],
   "source": [
    "for index, row in results1.iterrows():\n",
    "    comp_test=row['pairs']\n",
    "    comp_seq_true=row['true_pairs']\n",
    "    # print(len(comp_test),comp_test)\n",
    "    # print(len(comp_seq_true),comp_seq_true)\n",
    "\n",
    "    #Sliding windows\n",
    "    windows_test={}\n",
    "    for jj in range(len(comp_test),1,-1):\n",
    "        for kk in range(0,len(comp_test)-jj+1):\n",
    "            if jj not in windows_test.keys():\n",
    "                windows_test[jj]=[comp_test[kk:(kk+jj)]]\n",
    "            else:\n",
    "                windows_test[jj].append(comp_test[kk:(kk+jj)])\n",
    "    \n",
    "    windows_true={}\n",
    "    for jj in range(len(comp_seq_true),1,-1):\n",
    "        for kk in range(0,len(comp_seq_true)-jj+1):\n",
    "            if jj not in windows_true.keys():\n",
    "                windows_true[jj]=[comp_seq_true[kk:(kk+jj)]]\n",
    "            else:\n",
    "                windows_true[jj].append(comp_seq_true[kk:(kk+jj)])\n",
    "\n",
    "    common_size=min(len(comp_seq_true),len(comp_test))\n",
    "    n_comp_true=len(comp_seq_true) #number of comparison for correct gnome\n",
    "    sim={}\n",
    "    for mm in range(2,n_comp_true+1):\n",
    "        sim[mm]=0\n",
    "        if mm<=common_size:\n",
    "            win_test=windows_test[mm]\n",
    "            win_true=windows_true[mm]\n",
    "            for comp_test in win_test:\n",
    "                if comp_test in win_true:\n",
    "                    sim[mm]+=1\n",
    "        else:\n",
    "            sim[mm]=0\n",
    "    # print(sim)\n",
    "\n",
    "    sum_test=0\n",
    "    sum_true=0\n",
    "    for key in sim.keys():\n",
    "        sum_true+=key*(len(comp_seq_true)-key)\n",
    "        # sum_true+=key\n",
    "        if sim[key]>0:\n",
    "            # sum_test+=key*sim[key]/len(windows_true[key])\n",
    "            sum_test+=key*sim[key]\n",
    "    if sum_test>sum_true:\n",
    "        sum_test=sum_true\n",
    "    p_gnome=sum_test/sum_true\n",
    "    # print(p_gnome)\n",
    "\n",
    "    results1.at[index, 'similarity'] = sim\n",
    "    results1.at[index, 'score'] = p_gnome\n",
    "\n",
    "# results1[results1['pid']==22]\n"
   ]
  },
  {
   "cell_type": "code",
   "execution_count": 9,
   "metadata": {},
   "outputs": [
    {
     "data": {
      "application/vnd.microsoft.datawrangler.viewer.v0+json": {
       "columns": [
        {
         "name": "index",
         "rawType": "int64",
         "type": "integer"
        },
        {
         "name": "pid",
         "rawType": "int64",
         "type": "integer"
        },
        {
         "name": "score",
         "rawType": "float64",
         "type": "float"
        },
        {
         "name": "generation",
         "rawType": "int64",
         "type": "integer"
        },
        {
         "name": "gnome_nn_01",
         "rawType": "object",
         "type": "unknown"
        },
        {
         "name": "mean_trial_score",
         "rawType": "float64",
         "type": "float"
        }
       ],
       "conversionMethod": "pd.DataFrame",
       "ref": "fd266389-4172-4ada-b9d2-df1a08d946ac",
       "rows": [
        [
         "22",
         "22",
         "0.2532891593700417",
         "0",
         "1",
         "0.3644393751436708"
        ],
        [
         "34",
         "34",
         "0.45222602397602396",
         "0",
         "1",
         "0.3891071453630913"
        ],
        [
         "48",
         "48",
         "0.11895962370962372",
         "0",
         "1",
         "0.1620576459953348"
        ],
        [
         "51",
         "51",
         "0.3306289494818907",
         "0",
         "1",
         "0.4565816244467905"
        ],
        [
         "85",
         "85",
         "0.5470455742514566",
         "0",
         "1",
         "0.5659229454306378"
        ],
        [
         "124",
         "124",
         "0.699190074631251",
         "1",
         "1",
         "0.6962251691310132"
        ],
        [
         "162",
         "162",
         "0.6062690642690642",
         "1",
         "1",
         "0.8042169324506379"
        ],
        [
         "183",
         "183",
         "0.3947148684648685",
         "2",
         "1",
         "0.5417375604200501"
        ],
        [
         "190",
         "190",
         "0.4343836286262757",
         "2",
         "1",
         "0.6908542045429381"
        ],
        [
         "230",
         "230",
         "0.3169748462321992",
         "2",
         "1",
         "0.5983228501022817"
        ],
        [
         "249",
         "249",
         "0.2916465274921157",
         "2",
         "1",
         "0.3641247196046174"
        ],
        [
         "255",
         "255",
         "0.6959357309357309",
         "2",
         "1",
         "0.6861706769199276"
        ],
        [
         "285",
         "285",
         "0.404855071399189",
         "0",
         "1",
         "0.4971012547103123"
        ],
        [
         "290",
         "290",
         "0.39984831834831835",
         "0",
         "1",
         "0.4324393213095009"
        ],
        [
         "291",
         "291",
         "0.24082738340091284",
         "0",
         "1",
         "0.3457678247836258"
        ],
        [
         "302",
         "302",
         "0.30326983310806843",
         "0",
         "1",
         "0.4157800780915165"
        ],
        [
         "303",
         "303",
         "0.633264652014652",
         "0",
         "1",
         "0.651057561751035"
        ],
        [
         "307",
         "307",
         "0.25246694237135414",
         "0",
         "1",
         "0.3839154455457154"
        ],
        [
         "379",
         "379",
         "0.1588813588372412",
         "1",
         "1",
         "0.5791901970410572"
        ],
        [
         "397",
         "397",
         "0.6686927655677656",
         "2",
         "1",
         "0.5114575157332399"
        ],
        [
         "403",
         "403",
         "0.19571318142641672",
         "2",
         "1",
         "0.4660131342769537"
        ],
        [
         "458",
         "458",
         "0.26945254745254743",
         "3",
         "1",
         "0.7213856561908509"
        ],
        [
         "459",
         "459",
         "0.5570757575757576",
         "3",
         "1",
         "0.6307344740002969"
        ],
        [
         "479",
         "479",
         "0.332746336996337",
         "3",
         "1",
         "0.4930569253590232"
        ],
        [
         "482",
         "482",
         "0.15049571262071262",
         "3",
         "1",
         "0.6573464608429643"
        ],
        [
         "499",
         "499",
         "0.13885663356251593",
         "3",
         "1",
         "0.438480980627545"
        ],
        [
         "544",
         "544",
         "0.6569615384615385",
         "4",
         "1",
         "0.7962251691310132"
        ],
        [
         "565",
         "565",
         "0.19724267399267398",
         "4",
         "1",
         "0.4046627648297978"
        ],
        [
         "587",
         "587",
         "0.5958601447572036",
         "5",
         "1",
         "0.6602911275513283"
        ],
        [
         "588",
         "588",
         "0.21105661005661008",
         "5",
         "1",
         "0.4292214361162079"
        ],
        [
         "706",
         "706",
         "0.2009503266341502",
         "7",
         "1",
         "0.5392192012825545"
        ],
        [
         "737",
         "737",
         "0.46380855663943904",
         "8",
         "1",
         "0.7178587367664957"
        ],
        [
         "750",
         "750",
         "0.15433077951460303",
         "3",
         "1",
         "0.5577777777777778"
        ],
        [
         "764",
         "764",
         "0.4125084988540871",
         "3",
         "1",
         "0.4010504234293299"
        ],
        [
         "789",
         "789",
         "0.021333695716048658",
         "5",
         "1",
         "0.2389316608996539"
        ],
        [
         "837",
         "837",
         "0.26816956083132554",
         "4",
         "1",
         "0.5644274984921839"
        ],
        [
         "838",
         "838",
         "0.40048817848817847",
         "4",
         "1",
         "0.5475736546926415"
        ],
        [
         "860",
         "860",
         "0.6702557442557443",
         "6",
         "1",
         "0.8540039447731755"
        ],
        [
         "861",
         "861",
         "0.6305714285714286",
         "6",
         "1",
         "0.6277366353402429"
        ],
        [
         "871",
         "871",
         "0.2796017316017316",
         "7",
         "1",
         "0.3523460209979139"
        ],
        [
         "909",
         "909",
         "0.3198987678987679",
         "9",
         "1",
         "0.3877655969580275"
        ],
        [
         "941",
         "941",
         "0.63737114356232",
         "4",
         "1",
         "0.7360938016781783"
        ],
        [
         "954",
         "954",
         "0.4530628268790034",
         "5",
         "1",
         "0.4460001407594715"
        ],
        [
         "979",
         "979",
         "0.23986037981626218",
         "7",
         "1",
         "0.5664764547394029"
        ],
        [
         "1002",
         "1002",
         "0.24667873792873793",
         "8",
         "1",
         "0.424210138162486"
        ],
        [
         "1044",
         "1044",
         "0.5228582887700535",
         "4",
         "1",
         "0.7212803565762718"
        ],
        [
         "1059",
         "1059",
         "0.6195003770739065",
         "5",
         "1",
         "0.5053550918862553"
        ],
        [
         "1061",
         "1061",
         "0.34636963036963037",
         "5",
         "1",
         "0.5517102235371466"
        ],
        [
         "1065",
         "1065",
         "0.5374647852147852",
         "6",
         "1",
         "0.6866980145027064"
        ],
        [
         "1066",
         "1066",
         "0.5847266214177979",
         "6",
         "1",
         "0.6123124472375221"
        ]
       ],
       "shape": {
        "columns": 5,
        "rows": 361
       }
      },
      "text/html": [
       "<div>\n",
       "<style scoped>\n",
       "    .dataframe tbody tr th:only-of-type {\n",
       "        vertical-align: middle;\n",
       "    }\n",
       "\n",
       "    .dataframe tbody tr th {\n",
       "        vertical-align: top;\n",
       "    }\n",
       "\n",
       "    .dataframe thead th {\n",
       "        text-align: right;\n",
       "    }\n",
       "</style>\n",
       "<table border=\"1\" class=\"dataframe\">\n",
       "  <thead>\n",
       "    <tr style=\"text-align: right;\">\n",
       "      <th></th>\n",
       "      <th>pid</th>\n",
       "      <th>score</th>\n",
       "      <th>generation</th>\n",
       "      <th>gnome_nn_01</th>\n",
       "      <th>mean_trial_score</th>\n",
       "    </tr>\n",
       "  </thead>\n",
       "  <tbody>\n",
       "    <tr>\n",
       "      <th>22</th>\n",
       "      <td>22</td>\n",
       "      <td>0.253289</td>\n",
       "      <td>0</td>\n",
       "      <td>1</td>\n",
       "      <td>0.364439</td>\n",
       "    </tr>\n",
       "    <tr>\n",
       "      <th>34</th>\n",
       "      <td>34</td>\n",
       "      <td>0.452226</td>\n",
       "      <td>0</td>\n",
       "      <td>1</td>\n",
       "      <td>0.389107</td>\n",
       "    </tr>\n",
       "    <tr>\n",
       "      <th>48</th>\n",
       "      <td>48</td>\n",
       "      <td>0.118960</td>\n",
       "      <td>0</td>\n",
       "      <td>1</td>\n",
       "      <td>0.162058</td>\n",
       "    </tr>\n",
       "    <tr>\n",
       "      <th>51</th>\n",
       "      <td>51</td>\n",
       "      <td>0.330629</td>\n",
       "      <td>0</td>\n",
       "      <td>1</td>\n",
       "      <td>0.456582</td>\n",
       "    </tr>\n",
       "    <tr>\n",
       "      <th>85</th>\n",
       "      <td>85</td>\n",
       "      <td>0.547046</td>\n",
       "      <td>0</td>\n",
       "      <td>1</td>\n",
       "      <td>0.565923</td>\n",
       "    </tr>\n",
       "    <tr>\n",
       "      <th>...</th>\n",
       "      <td>...</td>\n",
       "      <td>...</td>\n",
       "      <td>...</td>\n",
       "      <td>...</td>\n",
       "      <td>...</td>\n",
       "    </tr>\n",
       "    <tr>\n",
       "      <th>3581</th>\n",
       "      <td>3581</td>\n",
       "      <td>0.441278</td>\n",
       "      <td>11</td>\n",
       "      <td>1</td>\n",
       "      <td>0.407231</td>\n",
       "    </tr>\n",
       "    <tr>\n",
       "      <th>3582</th>\n",
       "      <td>3582</td>\n",
       "      <td>0.242832</td>\n",
       "      <td>11</td>\n",
       "      <td>1</td>\n",
       "      <td>0.380610</td>\n",
       "    </tr>\n",
       "    <tr>\n",
       "      <th>3586</th>\n",
       "      <td>3586</td>\n",
       "      <td>0.609054</td>\n",
       "      <td>11</td>\n",
       "      <td>1</td>\n",
       "      <td>0.750641</td>\n",
       "    </tr>\n",
       "    <tr>\n",
       "      <th>3587</th>\n",
       "      <td>3587</td>\n",
       "      <td>0.677756</td>\n",
       "      <td>11</td>\n",
       "      <td>1</td>\n",
       "      <td>0.576630</td>\n",
       "    </tr>\n",
       "    <tr>\n",
       "      <th>3599</th>\n",
       "      <td>3599</td>\n",
       "      <td>0.404771</td>\n",
       "      <td>11</td>\n",
       "      <td>1</td>\n",
       "      <td>0.660953</td>\n",
       "    </tr>\n",
       "  </tbody>\n",
       "</table>\n",
       "<p>361 rows × 5 columns</p>\n",
       "</div>"
      ],
      "text/plain": [
       "       pid     score  generation gnome_nn_01  mean_trial_score\n",
       "22      22  0.253289           0           1          0.364439\n",
       "34      34  0.452226           0           1          0.389107\n",
       "48      48  0.118960           0           1          0.162058\n",
       "51      51  0.330629           0           1          0.456582\n",
       "85      85  0.547046           0           1          0.565923\n",
       "...    ...       ...         ...         ...               ...\n",
       "3581  3581  0.441278          11           1          0.407231\n",
       "3582  3582  0.242832          11           1          0.380610\n",
       "3586  3586  0.609054          11           1          0.750641\n",
       "3587  3587  0.677756          11           1          0.576630\n",
       "3599  3599  0.404771          11           1          0.660953\n",
       "\n",
       "[361 rows x 5 columns]"
      ]
     },
     "execution_count": 9,
     "metadata": {},
     "output_type": "execute_result"
    }
   ],
   "source": [
    "# print(results1[results1['pid']==3596])\n",
    "\n",
    "# results1.head(20)\n",
    "results1['score'] = pd.to_numeric(results1['score'], errors='coerce')\n",
    "first_n=results1.groupby('pid').apply(lambda x: x.nlargest(10, 'score')).reset_index(drop=True)\n",
    "# print(first_n[first_n['pid']==2596])\n",
    "ave_first_n=first_n.groupby('pid')['score'].mean().reset_index()\n",
    "# print(ave_first_n[ave_first_n['pid']==2596])\n",
    "# ave_first_n.head(10)\n",
    "# # result = results1.groupby('pid')['score'].mean().reset_index()\n",
    "# result = results1.groupby('pid')['score'].mean(np.quantile(, 0.5)).reset_index()\n",
    "# result = results1.groupby(\"pid\")[\"score\"].apply(lambda x: x.nlargest(5).mean()).reset_index(name='avg_top5')\n",
    "df_scores = ave_first_n.merge(pid_algo[['pid', 'generation','gnome_nn_01','mean_trial_score']], on='pid', how='left')\n",
    "# df_scores.head(10)\n",
    "weird=df_scores[df_scores['score']<df_scores['gnome_nn_01']-0.3]\n",
    "weird\n",
    "# print(weird)\n",
    "# # print(max(results1['gnome_nn_01']))\n",
    "# df_scores.plot(x='score', y='gnome_nn_01', style='o')\n"
   ]
  },
  {
   "cell_type": "code",
   "execution_count": 31,
   "metadata": {},
   "outputs": [
    {
     "data": {
      "text/plain": [
       "Text(0.5, 1.0, 'Gnome Users: Window score vs generation')"
      ]
     },
     "execution_count": 31,
     "metadata": {},
     "output_type": "execute_result"
    },
    {
     "data": {
      "image/png": "[encoded data removed]",
      "text/plain": [
       "<Figure size 640x480 with 1 Axes>"
      ]
     },
     "metadata": {},
     "output_type": "display_data"
    },
    {
     "data": {
      "image/png": "[encoded data removed]",
      "text/plain": [
       "<Figure size 640x480 with 1 Axes>"
      ]
     },
     "metadata": {},
     "output_type": "display_data"
    },
    {
     "data": {
      "image/png": "[encoded data removed]",
      "text/plain": [
       "<Figure size 640x480 with 1 Axes>"
      ]
     },
     "metadata": {},
     "output_type": "display_data"
    },
    {
     "data": {
      "image/png": "[encoded data removed]",
      "text/plain": [
       "<Figure size 640x480 with 1 Axes>"
      ]
     },
     "metadata": {},
     "output_type": "display_data"
    }
   ],
   "source": [
    "fig1 = plt.figure()\n",
    "plt.scatter(df_scores['gnome_nn_01'], df_scores['score'],alpha=0.2)\n",
    "plt.xlabel('neural network')\n",
    "plt.ylabel('score_windowanalysis')\n",
    "plt.title('All users: Did they use gnome: Neural network vs Window score')\n",
    "\n",
    "fig2 = plt.figure()\n",
    "sns.violinplot(x='gnome_nn_01', y='score', data=df_scores)\n",
    "plt.xlabel('neural network')\n",
    "plt.ylabel('score_windowanalysis')\n",
    "plt.title('All users: Did they use gnome: Neural network vs Window score')\n",
    "\n",
    "\n",
    "fig3 = plt.figure()\n",
    "plt.scatter(df_scores['score'], df_scores['mean_trial_score'],alpha=0.2)\n",
    "plt.xlabel('score_windowanalysis')\n",
    "plt.ylabel('mean trial score')\n",
    "plt.title('Gnome Users: Mean trial score vs Window score')\n",
    "\n",
    "fig4 = plt.figure()\n",
    "sns.violinplot(x='generation', y='score', data=df_scores[df_scores['gnome_nn_01']==1])\n",
    "plt.xlabel('generation')\n",
    "plt.ylabel('mean trial score')\n",
    "plt.title('Gnome Users: Window score vs generation')\n",
    "\n",
    "# fig2=df_scores[df_scores['gnome_nn_01']==1].plot(x='score', y='mean_trial_score', style='o',alpha=0.2,xlabel='score_windowanalysis',ylabel='mean trial score',title='Gnome Users: Mean trial score vs Window score')\n",
    "# fig3=df_scores[df_scores['gnome_nn_01']==1].plot(x='generation', y='score', style='o',alpha=0.2,xlabel='generation',ylabel='score_windowanalysis',title='Window score vs generation')"
   ]
  },
  {
   "cell_type": "code",
   "execution_count": 30,
   "metadata": {},
   "outputs": [
    {
     "name": "stdout",
     "output_type": "stream",
     "text": [
      "                            OLS Regression Results                            \n",
      "==============================================================================\n",
      "Dep. Variable:                  score   R-squared:                       0.026\n",
      "Model:                            OLS   Adj. R-squared:                  0.026\n",
      "Method:                 Least Squares   F-statistic:                     97.91\n",
      "Date:                Sun, 02 Mar 2025   Prob (F-statistic):           8.55e-23\n",
      "Time:                        22:39:36   Log-Likelihood:                -496.26\n",
      "No. Observations:                3600   AIC:                             996.5\n",
      "Df Residuals:                    3598   BIC:                             1009.\n",
      "Df Model:                           1                                         \n",
      "Covariance Type:            nonrobust                                         \n",
      "==============================================================================\n",
      "                 coef    std err          t      P>|t|      [0.025      0.975]\n",
      "------------------------------------------------------------------------------\n",
      "Intercept      0.1043      0.009     11.977      0.000       0.087       0.121\n",
      "generation     0.0133      0.001      9.895      0.000       0.011       0.016\n",
      "==============================================================================\n",
      "Omnibus:                     1003.090   Durbin-Watson:                   1.508\n",
      "Prob(Omnibus):                  0.000   Jarque-Bera (JB):             2095.683\n",
      "Skew:                           1.677   Prob(JB):                         0.00\n",
      "Kurtosis:                       4.648   Cond. No.                         12.4\n",
      "==============================================================================\n",
      "\n",
      "Notes:\n",
      "[1] Standard Errors assume that the covariance matrix of the errors is correctly specified.\n"
     ]
    }
   ],
   "source": [
    "import statsmodels.formula.api as smf\n",
    "model = smf.ols(formula='score ~ generation ', data=df_scores).fit()\n",
    "\n",
    "# Print a detailed summary (similar to R's summary(lm))\n",
    "print(model.summary())"
   ]
  },
  {
   "cell_type": "code",
   "execution_count": 19,
   "metadata": {},
   "outputs": [
    {
     "data": {
      "application/vnd.microsoft.datawrangler.viewer.v0+json": {
       "columns": [
        {
         "name": "index",
         "rawType": "int64",
         "type": "integer"
        },
        {
         "name": "pid",
         "rawType": "float64",
         "type": "float"
        },
        {
         "name": "n_children",
         "rawType": "int64",
         "type": "integer"
        },
        {
         "name": "n_algochildren",
         "rawType": "float64",
         "type": "float"
        }
       ],
       "conversionMethod": "pd.DataFrame",
       "ref": "a9e31322-76e3-4db5-8634-080f9a145b4e",
       "rows": [
        [
         "0",
         "40.0",
         "3",
         "0.0"
        ],
        [
         "1",
         "1940.0",
         "5",
         "4.0"
        ],
        [
         "2",
         "2008.0",
         "5",
         "2.0"
        ],
        [
         "3",
         "2725.0",
         "4",
         "2.0"
        ],
        [
         "4",
         "2550.0",
         "3",
         "0.0"
        ],
        [
         "5",
         "2738.0",
         "4",
         "3.0"
        ],
        [
         "6",
         "2124.0",
         "1",
         "0.0"
        ],
        [
         "7",
         "2060.0",
         "1",
         "0.0"
        ],
        [
         "8",
         "2421.0",
         "1",
         "0.0"
        ],
        [
         "9",
         "2912.0",
         "1",
         "1.0"
        ],
        [
         "10",
         "3059.0",
         "3",
         "0.0"
        ],
        [
         "11",
         "2661.0",
         "4",
         "1.0"
        ],
        [
         "12",
         "2477.0",
         "1",
         "0.0"
        ],
        [
         "13",
         "2787.0",
         "11",
         "6.0"
        ],
        [
         "14",
         "2512.0",
         "21",
         "17.0"
        ],
        [
         "15",
         "2781.0",
         "1",
         "0.0"
        ],
        [
         "16",
         "2963.0",
         "2",
         "2.0"
        ],
        [
         "17",
         "3134.0",
         "10",
         "5.0"
        ],
        [
         "18",
         "3076.0",
         "5",
         "2.0"
        ],
        [
         "19",
         "1375.0",
         "5",
         "0.0"
        ],
        [
         "20",
         "1521.0",
         "3",
         "0.0"
        ],
        [
         "21",
         "1763.0",
         "3",
         "2.0"
        ],
        [
         "22",
         "3334.0",
         "6",
         "1.0"
        ],
        [
         "23",
         "3449.0",
         "6",
         "1.0"
        ],
        [
         "24",
         "3315.0",
         "2",
         "0.0"
        ],
        [
         "25",
         "3342.0",
         "7",
         "3.0"
        ],
        [
         "26",
         "3548.0",
         "2",
         "0.0"
        ],
        [
         "27",
         "2947.0",
         "2",
         "1.0"
        ],
        [
         "28",
         "2599.0",
         "5",
         "4.0"
        ],
        [
         "29",
         "2597.0",
         "1",
         "1.0"
        ],
        [
         "30",
         "3102.0",
         "2",
         "1.0"
        ],
        [
         "31",
         "66.0",
         "1",
         "0.0"
        ],
        [
         "32",
         "2068.0",
         "5",
         "1.0"
        ],
        [
         "33",
         "2035.0",
         "3",
         "1.0"
        ],
        [
         "34",
         "1109.0",
         "2",
         "0.0"
        ],
        [
         "35",
         "2825.0",
         "7",
         "5.0"
        ],
        [
         "36",
         "3008.0",
         "1",
         "0.0"
        ],
        [
         "37",
         "2895.0",
         "6",
         "5.0"
        ],
        [
         "38",
         "2733.0",
         "8",
         "4.0"
        ],
        [
         "39",
         "2923.0",
         "10",
         "5.0"
        ],
        [
         "40",
         "2863.0",
         "1",
         "0.0"
        ],
        [
         "41",
         "2215.0",
         "2",
         "1.0"
        ],
        [
         "42",
         "2742.0",
         "1",
         "1.0"
        ],
        [
         "43",
         "2922.0",
         "2",
         "0.0"
        ],
        [
         "44",
         "2658.0",
         "3",
         "0.0"
        ],
        [
         "45",
         "2953.0",
         "7",
         "7.0"
        ],
        [
         "46",
         "693.0",
         "3",
         "1.0"
        ],
        [
         "47",
         "2958.0",
         "1",
         "1.0"
        ],
        [
         "48",
         "725.0",
         "1",
         "0.0"
        ],
        [
         "49",
         "1335.0",
         "2",
         "0.0"
        ]
       ],
       "shape": {
        "columns": 3,
        "rows": 537
       }
      },
      "text/html": [
       "<div>\n",
       "<style scoped>\n",
       "    .dataframe tbody tr th:only-of-type {\n",
       "        vertical-align: middle;\n",
       "    }\n",
       "\n",
       "    .dataframe tbody tr th {\n",
       "        vertical-align: top;\n",
       "    }\n",
       "\n",
       "    .dataframe thead th {\n",
       "        text-align: right;\n",
       "    }\n",
       "</style>\n",
       "<table border=\"1\" class=\"dataframe\">\n",
       "  <thead>\n",
       "    <tr style=\"text-align: right;\">\n",
       "      <th></th>\n",
       "      <th>pid</th>\n",
       "      <th>n_children</th>\n",
       "      <th>n_algochildren</th>\n",
       "    </tr>\n",
       "  </thead>\n",
       "  <tbody>\n",
       "    <tr>\n",
       "      <th>0</th>\n",
       "      <td>40.0</td>\n",
       "      <td>3</td>\n",
       "      <td>0.0</td>\n",
       "    </tr>\n",
       "    <tr>\n",
       "      <th>1</th>\n",
       "      <td>1940.0</td>\n",
       "      <td>5</td>\n",
       "      <td>4.0</td>\n",
       "    </tr>\n",
       "    <tr>\n",
       "      <th>2</th>\n",
       "      <td>2008.0</td>\n",
       "      <td>5</td>\n",
       "      <td>2.0</td>\n",
       "    </tr>\n",
       "    <tr>\n",
       "      <th>3</th>\n",
       "      <td>2725.0</td>\n",
       "      <td>4</td>\n",
       "      <td>2.0</td>\n",
       "    </tr>\n",
       "    <tr>\n",
       "      <th>4</th>\n",
       "      <td>2550.0</td>\n",
       "      <td>3</td>\n",
       "      <td>0.0</td>\n",
       "    </tr>\n",
       "    <tr>\n",
       "      <th>...</th>\n",
       "      <td>...</td>\n",
       "      <td>...</td>\n",
       "      <td>...</td>\n",
       "    </tr>\n",
       "    <tr>\n",
       "      <th>532</th>\n",
       "      <td>3550.0</td>\n",
       "      <td>3</td>\n",
       "      <td>1.0</td>\n",
       "    </tr>\n",
       "    <tr>\n",
       "      <th>533</th>\n",
       "      <td>3490.0</td>\n",
       "      <td>2</td>\n",
       "      <td>0.0</td>\n",
       "    </tr>\n",
       "    <tr>\n",
       "      <th>534</th>\n",
       "      <td>2764.0</td>\n",
       "      <td>1</td>\n",
       "      <td>0.0</td>\n",
       "    </tr>\n",
       "    <tr>\n",
       "      <th>535</th>\n",
       "      <td>3135.0</td>\n",
       "      <td>1</td>\n",
       "      <td>1.0</td>\n",
       "    </tr>\n",
       "    <tr>\n",
       "      <th>536</th>\n",
       "      <td>3335.0</td>\n",
       "      <td>1</td>\n",
       "      <td>1.0</td>\n",
       "    </tr>\n",
       "  </tbody>\n",
       "</table>\n",
       "<p>537 rows × 3 columns</p>\n",
       "</div>"
      ],
      "text/plain": [
       "        pid  n_children  n_algochildren\n",
       "0      40.0           3             0.0\n",
       "1    1940.0           5             4.0\n",
       "2    2008.0           5             2.0\n",
       "3    2725.0           4             2.0\n",
       "4    2550.0           3             0.0\n",
       "..      ...         ...             ...\n",
       "532  3550.0           3             1.0\n",
       "533  3490.0           2             0.0\n",
       "534  2764.0           1             0.0\n",
       "535  3135.0           1             1.0\n",
       "536  3335.0           1             1.0\n",
       "\n",
       "[537 rows x 3 columns]"
      ]
     },
     "execution_count": 19,
     "metadata": {},
     "output_type": "execute_result"
    }
   ],
   "source": [
    "query = \"\"\"\n",
    "CREATE OR REPLACE TABLE Transmission_Table AS\n",
    "    SELECT \n",
    "        networks.parent_participant_id as parent_id,\n",
    "        networks.participant_id as pid,\n",
    "        networks.parent_rank as rank_parent,\n",
    "        parent_participant.algo_type as parent_algo,\n",
    "        child_participant.algo_type as child_algo,\n",
    "        CASE \n",
    "        WHEN child_participant.algo_type = 1 THEN 1 \n",
    "        ELSE 0 \n",
    "        END AS child_gnome\n",
    "    FROM networks\n",
    "    LEFT JOIN Participant_Table as parent_participant\n",
    "    ON parent_participant.pid=networks.parent_participant_id\n",
    "    LEFT JOIN Participant_Table as child_participant\n",
    "    ON child_participant.pid=networks.participant_id\n",
    "    WHERE networks.parent_participant_id IS NOT NULL and parent_participant.algo_type=1; \n",
    "\n",
    "\n",
    "SELECT \n",
    "parent_id as pid,\n",
    "--max(rank_parent) as rank,\n",
    "COUNT(pid) AS n_children,\n",
    "SUM(child_gnome) AS n_algochildren,\n",
    "FROM Transmission_Table\n",
    "GROUP BY parent_id;\n",
    "\n",
    "\n",
    "\n",
    "\n",
    "\"\"\"\n",
    "\n",
    "# Execute queries\n",
    "df_Network = con.execute(query).df()\n",
    "\n",
    "# Display results\n",
    "df_Network"
   ]
  },
  {
   "cell_type": "code",
   "execution_count": 20,
   "metadata": {},
   "outputs": [
    {
     "data": {
      "application/vnd.microsoft.datawrangler.viewer.v0+json": {
       "columns": [
        {
         "name": "index",
         "rawType": "int64",
         "type": "integer"
        },
        {
         "name": "pid",
         "rawType": "int64",
         "type": "integer"
        },
        {
         "name": "score",
         "rawType": "float64",
         "type": "float"
        },
        {
         "name": "generation",
         "rawType": "int64",
         "type": "integer"
        },
        {
         "name": "gnome_nn_01",
         "rawType": "object",
         "type": "unknown"
        },
        {
         "name": "mean_trial_score",
         "rawType": "float64",
         "type": "float"
        },
        {
         "name": "n_children",
         "rawType": "float64",
         "type": "float"
        },
        {
         "name": "n_algochildren",
         "rawType": "float64",
         "type": "float"
        },
        {
         "name": "p_trans",
         "rawType": "float64",
         "type": "float"
        }
       ],
       "conversionMethod": "pd.DataFrame",
       "ref": "d47cb65b-9201-4e20-921b-471827dec128",
       "rows": [
        [
         "0",
         "0",
         "0.0009523809523809525",
         "0",
         "0",
         "0.4056391802930841",
         null,
         null,
         null
        ],
        [
         "1",
         "1",
         "0.07545186839304487",
         "0",
         "0",
         "0.2228319475938523",
         null,
         null,
         null
        ],
        [
         "2",
         "2",
         "0.02671669996669997",
         "0",
         "0",
         "0.2920576845553036",
         null,
         null,
         null
        ],
        [
         "3",
         "3",
         "0.048466866466866466",
         "0",
         "0",
         "0.2347581143826514",
         null,
         null,
         null
        ],
        [
         "4",
         "4",
         "0.04448161152572917",
         "0",
         "0",
         "0.4383140916969588",
         null,
         null,
         null
        ],
        [
         "5",
         "5",
         "0.007993863979158097",
         "0",
         "0",
         "0.5044550438813362",
         null,
         null,
         null
        ],
        [
         "6",
         "6",
         "0.024151189496777734",
         "0",
         "0",
         "0.1707415214187963",
         null,
         null,
         null
        ],
        [
         "7",
         "7",
         "0.0386540714187773",
         "0",
         "0",
         "0.1597732426303854",
         null,
         null,
         null
        ],
        [
         "8",
         "8",
         "1.0",
         "0",
         "1",
         "0.8747189895241843",
         "3.0",
         "0.0",
         "0.2"
        ],
        [
         "9",
         "9",
         "0.029834415584415585",
         "0",
         "0",
         "0.2253928336620644",
         null,
         null,
         null
        ],
        [
         "10",
         "10",
         "0.05216365007541478",
         "0",
         "0",
         "0.372080940281255",
         null,
         null,
         null
        ],
        [
         "11",
         "11",
         "0.043299173865350336",
         "0",
         "0",
         "0.2859173374573884",
         null,
         null,
         null
        ],
        [
         "12",
         "12",
         "0.006247294372294372",
         "0",
         "0",
         "0.444869869516434",
         null,
         null,
         null
        ],
        [
         "13",
         "13",
         "0.008192640692640692",
         "0",
         "0",
         "0.3611538831218762",
         null,
         null,
         null
        ],
        [
         "14",
         "14",
         "0.0",
         "0",
         "0",
         "0.0",
         null,
         null,
         null
        ],
        [
         "15",
         "15",
         "0.031219706219706225",
         "0",
         "0",
         "0.0476816608996539",
         null,
         null,
         null
        ],
        [
         "16",
         "16",
         "0.035635947385947386",
         "0",
         "0",
         "0.3263356336470721",
         null,
         null,
         null
        ],
        [
         "17",
         "17",
         "0.054785004211474794",
         "0",
         "0",
         "0.1982875283446712",
         null,
         null,
         null
        ],
        [
         "18",
         "18",
         "0.0007272727272727272",
         "0",
         "0",
         "0.5433761053440984",
         null,
         null,
         null
        ],
        [
         "19",
         "19",
         "0.00432694756224168",
         "0",
         "0",
         "0.0446913580246913",
         null,
         null,
         null
        ],
        [
         "20",
         "20",
         "0.28927272727272724",
         "0",
         "0",
         "0.4639788538689638",
         null,
         null,
         null
        ],
        [
         "21",
         "21",
         "0.0",
         "0",
         "0",
         "0.5565107709750567",
         null,
         null,
         null
        ],
        [
         "22",
         "22",
         "0.2532891593700417",
         "0",
         "1",
         "0.3644393751436708",
         null,
         null,
         null
        ],
        [
         "23",
         "23",
         "0.0",
         "0",
         "0",
         "0.5555555555555556",
         null,
         null,
         null
        ],
        [
         "24",
         "24",
         "0.05736861422890834",
         "0",
         "0",
         "0.3023611111111111",
         null,
         null,
         null
        ],
        [
         "25",
         "25",
         "0.002564102564102564",
         "0",
         "0",
         "0.4306044624767568",
         null,
         null,
         null
        ],
        [
         "26",
         "26",
         "0.08942723942723943",
         "0",
         "0",
         "0.1393965734441924",
         null,
         null,
         null
        ],
        [
         "27",
         "27",
         "0.06560347985347985",
         "0",
         "0",
         "0.2744267080615586",
         null,
         null,
         null
        ],
        [
         "28",
         "28",
         "0.02220354645354645",
         "0",
         "0",
         "0.3024875845655066",
         null,
         null,
         null
        ],
        [
         "29",
         "29",
         "0.031631970970206265",
         "0",
         "0",
         "0.3387669219263906",
         null,
         null,
         null
        ],
        [
         "30",
         "30",
         "0.1505910878337349",
         "0",
         "0",
         "0.309330746844524",
         null,
         null,
         null
        ],
        [
         "31",
         "31",
         "0.03325901549430961",
         "0",
         "0",
         "0.2551866391421334",
         null,
         null,
         null
        ],
        [
         "32",
         "32",
         "0.08321237096237097",
         "0",
         "0",
         "0.2466000102749022",
         null,
         null,
         null
        ],
        [
         "33",
         "33",
         "0.031889776889776886",
         "0",
         "0",
         "0.1683656603137122",
         null,
         null,
         null
        ],
        [
         "34",
         "34",
         "0.45222602397602396",
         "0",
         "1",
         "0.3891071453630913",
         "2.0",
         "0.0",
         "0.25"
        ],
        [
         "35",
         "35",
         "0.03735705470999588",
         "0",
         "0",
         "0.2531487771645781",
         null,
         null,
         null
        ],
        [
         "36",
         "36",
         "0.015093573093573093",
         "0",
         "0",
         "0.3224239478746402",
         null,
         null,
         null
        ],
        [
         "37",
         "37",
         "0.8561424457895047",
         "0",
         "1",
         "0.7590574432551846",
         "3.0",
         "1.0",
         "0.4"
        ],
        [
         "38",
         "38",
         "0.05545004995004995",
         "0",
         "0",
         "0.1866385769994272",
         null,
         null,
         null
        ],
        [
         "39",
         "39",
         "0.004",
         "0",
         "0",
         "0.0",
         null,
         null,
         null
        ],
        [
         "40",
         "40",
         "0.925",
         "0",
         "1",
         "0.8906797941762978",
         "3.0",
         "0.0",
         "0.2"
        ],
        [
         "41",
         "41",
         "0.010895271395271395",
         "0",
         "0",
         "0.3976850112165517",
         null,
         null,
         null
        ],
        [
         "42",
         "42",
         "0.02450974025974026",
         "0",
         "0",
         "0.0578",
         null,
         null,
         null
        ],
        [
         "43",
         "43",
         "0.004",
         "0",
         "0",
         "0.4453996598639455",
         null,
         null,
         null
        ],
        [
         "44",
         "44",
         "0.001282051282051282",
         "0",
         "0",
         "0.5555555555555556",
         null,
         null,
         null
        ],
        [
         "45",
         "45",
         "0.0",
         "0",
         "0",
         "0.4173833333333333",
         null,
         null,
         null
        ],
        [
         "46",
         "46",
         "0.04861896436896437",
         "0",
         "0",
         "0.3323413733351963",
         null,
         null,
         null
        ],
        [
         "47",
         "47",
         "0.04037425319778261",
         "0",
         "0",
         "0.3132331146628959",
         null,
         null,
         null
        ],
        [
         "48",
         "48",
         "0.11895962370962372",
         "0",
         "1",
         "0.1620576459953348",
         "4.0",
         "1.0",
         "0.3333333333333333"
        ],
        [
         "49",
         "49",
         "0.07327788877788878",
         "0",
         "0",
         "0.4136575784001914",
         null,
         null,
         null
        ]
       ],
       "shape": {
        "columns": 8,
        "rows": 3600
       }
      },
      "text/html": [
       "<div>\n",
       "<style scoped>\n",
       "    .dataframe tbody tr th:only-of-type {\n",
       "        vertical-align: middle;\n",
       "    }\n",
       "\n",
       "    .dataframe tbody tr th {\n",
       "        vertical-align: top;\n",
       "    }\n",
       "\n",
       "    .dataframe thead th {\n",
       "        text-align: right;\n",
       "    }\n",
       "</style>\n",
       "<table border=\"1\" class=\"dataframe\">\n",
       "  <thead>\n",
       "    <tr style=\"text-align: right;\">\n",
       "      <th></th>\n",
       "      <th>pid</th>\n",
       "      <th>score</th>\n",
       "      <th>generation</th>\n",
       "      <th>gnome_nn_01</th>\n",
       "      <th>mean_trial_score</th>\n",
       "      <th>n_children</th>\n",
       "      <th>n_algochildren</th>\n",
       "      <th>p_trans</th>\n",
       "    </tr>\n",
       "  </thead>\n",
       "  <tbody>\n",
       "    <tr>\n",
       "      <th>0</th>\n",
       "      <td>0</td>\n",
       "      <td>0.000952</td>\n",
       "      <td>0</td>\n",
       "      <td>0</td>\n",
       "      <td>0.405639</td>\n",
       "      <td>NaN</td>\n",
       "      <td>NaN</td>\n",
       "      <td>NaN</td>\n",
       "    </tr>\n",
       "    <tr>\n",
       "      <th>1</th>\n",
       "      <td>1</td>\n",
       "      <td>0.075452</td>\n",
       "      <td>0</td>\n",
       "      <td>0</td>\n",
       "      <td>0.222832</td>\n",
       "      <td>NaN</td>\n",
       "      <td>NaN</td>\n",
       "      <td>NaN</td>\n",
       "    </tr>\n",
       "    <tr>\n",
       "      <th>2</th>\n",
       "      <td>2</td>\n",
       "      <td>0.026717</td>\n",
       "      <td>0</td>\n",
       "      <td>0</td>\n",
       "      <td>0.292058</td>\n",
       "      <td>NaN</td>\n",
       "      <td>NaN</td>\n",
       "      <td>NaN</td>\n",
       "    </tr>\n",
       "    <tr>\n",
       "      <th>3</th>\n",
       "      <td>3</td>\n",
       "      <td>0.048467</td>\n",
       "      <td>0</td>\n",
       "      <td>0</td>\n",
       "      <td>0.234758</td>\n",
       "      <td>NaN</td>\n",
       "      <td>NaN</td>\n",
       "      <td>NaN</td>\n",
       "    </tr>\n",
       "    <tr>\n",
       "      <th>4</th>\n",
       "      <td>4</td>\n",
       "      <td>0.044482</td>\n",
       "      <td>0</td>\n",
       "      <td>0</td>\n",
       "      <td>0.438314</td>\n",
       "      <td>NaN</td>\n",
       "      <td>NaN</td>\n",
       "      <td>NaN</td>\n",
       "    </tr>\n",
       "    <tr>\n",
       "      <th>...</th>\n",
       "      <td>...</td>\n",
       "      <td>...</td>\n",
       "      <td>...</td>\n",
       "      <td>...</td>\n",
       "      <td>...</td>\n",
       "      <td>...</td>\n",
       "      <td>...</td>\n",
       "      <td>...</td>\n",
       "    </tr>\n",
       "    <tr>\n",
       "      <th>3595</th>\n",
       "      <td>3595</td>\n",
       "      <td>0.724798</td>\n",
       "      <td>11</td>\n",
       "      <td>0</td>\n",
       "      <td>0.744710</td>\n",
       "      <td>NaN</td>\n",
       "      <td>NaN</td>\n",
       "      <td>NaN</td>\n",
       "    </tr>\n",
       "    <tr>\n",
       "      <th>3596</th>\n",
       "      <td>3596</td>\n",
       "      <td>0.370762</td>\n",
       "      <td>11</td>\n",
       "      <td>0</td>\n",
       "      <td>0.479483</td>\n",
       "      <td>NaN</td>\n",
       "      <td>NaN</td>\n",
       "      <td>NaN</td>\n",
       "    </tr>\n",
       "    <tr>\n",
       "      <th>3597</th>\n",
       "      <td>3597</td>\n",
       "      <td>0.154625</td>\n",
       "      <td>11</td>\n",
       "      <td>0</td>\n",
       "      <td>0.547124</td>\n",
       "      <td>NaN</td>\n",
       "      <td>NaN</td>\n",
       "      <td>NaN</td>\n",
       "    </tr>\n",
       "    <tr>\n",
       "      <th>3598</th>\n",
       "      <td>3598</td>\n",
       "      <td>0.050580</td>\n",
       "      <td>11</td>\n",
       "      <td>0</td>\n",
       "      <td>0.229368</td>\n",
       "      <td>NaN</td>\n",
       "      <td>NaN</td>\n",
       "      <td>NaN</td>\n",
       "    </tr>\n",
       "    <tr>\n",
       "      <th>3599</th>\n",
       "      <td>3599</td>\n",
       "      <td>0.404771</td>\n",
       "      <td>11</td>\n",
       "      <td>1</td>\n",
       "      <td>0.660953</td>\n",
       "      <td>NaN</td>\n",
       "      <td>NaN</td>\n",
       "      <td>NaN</td>\n",
       "    </tr>\n",
       "  </tbody>\n",
       "</table>\n",
       "<p>3600 rows × 8 columns</p>\n",
       "</div>"
      ],
      "text/plain": [
       "       pid     score  generation gnome_nn_01  mean_trial_score  n_children  \\\n",
       "0        0  0.000952           0           0          0.405639         NaN   \n",
       "1        1  0.075452           0           0          0.222832         NaN   \n",
       "2        2  0.026717           0           0          0.292058         NaN   \n",
       "3        3  0.048467           0           0          0.234758         NaN   \n",
       "4        4  0.044482           0           0          0.438314         NaN   \n",
       "...    ...       ...         ...         ...               ...         ...   \n",
       "3595  3595  0.724798          11           0          0.744710         NaN   \n",
       "3596  3596  0.370762          11           0          0.479483         NaN   \n",
       "3597  3597  0.154625          11           0          0.547124         NaN   \n",
       "3598  3598  0.050580          11           0          0.229368         NaN   \n",
       "3599  3599  0.404771          11           1          0.660953         NaN   \n",
       "\n",
       "      n_algochildren  p_trans  \n",
       "0                NaN      NaN  \n",
       "1                NaN      NaN  \n",
       "2                NaN      NaN  \n",
       "3                NaN      NaN  \n",
       "4                NaN      NaN  \n",
       "...              ...      ...  \n",
       "3595             NaN      NaN  \n",
       "3596             NaN      NaN  \n",
       "3597             NaN      NaN  \n",
       "3598             NaN      NaN  \n",
       "3599             NaN      NaN  \n",
       "\n",
       "[3600 rows x 8 columns]"
      ]
     },
     "execution_count": 20,
     "metadata": {},
     "output_type": "execute_result"
    }
   ],
   "source": [
    "score_trans=pd.merge(df_scores,df_Network, on='pid', how='left')\n",
    "\n",
    "alpha=1\n",
    "beta=1\n",
    "score_trans['p_trans']=(alpha+score_trans['n_algochildren'])/(alpha+beta+score_trans['n_children'])\n",
    "score_trans"
   ]
  },
  {
   "cell_type": "code",
   "execution_count": null,
   "metadata": {},
   "outputs": [
    {
     "data": {
      "image/png": "[encoded data removed]",
      "text/plain": [
       "<Figure size 640x480 with 1 Axes>"
      ]
     },
     "metadata": {},
     "output_type": "display_data"
    },
    {
     "data": {
      "image/png": "[encoded data removed]",
      "text/plain": [
       "<Figure size 640x480 with 1 Axes>"
      ]
     },
     "metadata": {},
     "output_type": "display_data"
    },
    {
     "data": {
      "image/png": "[encoded data removed]",
      "text/plain": [
       "<Figure size 640x480 with 1 Axes>"
      ]
     },
     "metadata": {},
     "output_type": "display_data"
    }
   ],
   "source": [
    "fig4=score_trans.plot(x='score', y='p_trans', style='o',alpha=0.2,xlabel='score_windowanalysis',ylabel='probability of successful transmission',title='Teaching effectiveness vs Window score')\n",
    "fig4_2=score_trans.plot(x='mean_trial_score', y='p_trans', style='o',alpha=0.2,xlabel='mean_trial_score',ylabel='probability of successful transmission',title='Teaching effectiveness vs mean_trial_score')\n",
    "\n",
    "fig5=score_trans.plot(x='generation', y='p_trans', style='o',alpha=0.2,xlabel='generation',ylabel='probability of successful transmission',title='Probability of successful transmission vs Generation')"
   ]
  },
  {
   "cell_type": "code",
   "execution_count": 29,
   "metadata": {},
   "outputs": [
    {
     "data": {
      "application/vnd.microsoft.datawrangler.viewer.v0+json": {
       "columns": [
        {
         "name": "index",
         "rawType": "int64",
         "type": "integer"
        },
        {
         "name": "parent_id",
         "rawType": "float64",
         "type": "float"
        },
        {
         "name": "pid",
         "rawType": "int64",
         "type": "integer"
        },
        {
         "name": "parent_algo",
         "rawType": "float64",
         "type": "float"
        },
        {
         "name": "child_algo",
         "rawType": "float64",
         "type": "float"
        }
       ],
       "conversionMethod": "pd.DataFrame",
       "ref": "ecb46b47-9f8c-463d-8cdd-d2d9aaf97c91",
       "rows": [
        [
         "0",
         "8.0",
         "137",
         "1.0",
         "0.0"
        ],
        [
         "1",
         "8.0",
         "173",
         "1.0",
         "8.0"
        ],
        [
         "2",
         "8.0",
         "108",
         "1.0",
         "0.0"
        ]
       ],
       "shape": {
        "columns": 4,
        "rows": 3
       }
      },
      "text/html": [
       "<div>\n",
       "<style scoped>\n",
       "    .dataframe tbody tr th:only-of-type {\n",
       "        vertical-align: middle;\n",
       "    }\n",
       "\n",
       "    .dataframe tbody tr th {\n",
       "        vertical-align: top;\n",
       "    }\n",
       "\n",
       "    .dataframe thead th {\n",
       "        text-align: right;\n",
       "    }\n",
       "</style>\n",
       "<table border=\"1\" class=\"dataframe\">\n",
       "  <thead>\n",
       "    <tr style=\"text-align: right;\">\n",
       "      <th></th>\n",
       "      <th>parent_id</th>\n",
       "      <th>pid</th>\n",
       "      <th>parent_algo</th>\n",
       "      <th>child_algo</th>\n",
       "    </tr>\n",
       "  </thead>\n",
       "  <tbody>\n",
       "    <tr>\n",
       "      <th>0</th>\n",
       "      <td>8.0</td>\n",
       "      <td>137</td>\n",
       "      <td>1.0</td>\n",
       "      <td>0.0</td>\n",
       "    </tr>\n",
       "    <tr>\n",
       "      <th>1</th>\n",
       "      <td>8.0</td>\n",
       "      <td>173</td>\n",
       "      <td>1.0</td>\n",
       "      <td>8.0</td>\n",
       "    </tr>\n",
       "    <tr>\n",
       "      <th>2</th>\n",
       "      <td>8.0</td>\n",
       "      <td>108</td>\n",
       "      <td>1.0</td>\n",
       "      <td>0.0</td>\n",
       "    </tr>\n",
       "  </tbody>\n",
       "</table>\n",
       "</div>"
      ],
      "text/plain": [
       "   parent_id  pid  parent_algo  child_algo\n",
       "0        8.0  137          1.0         0.0\n",
       "1        8.0  173          1.0         8.0\n",
       "2        8.0  108          1.0         0.0"
      ]
     },
     "execution_count": 29,
     "metadata": {},
     "output_type": "execute_result"
    }
   ],
   "source": [
    "query_check = \"\"\"\n",
    "SELECT \n",
    "    parent_id,\n",
    "    pid,\n",
    "    parent_algo,\n",
    "    child_algo\n",
    "FROM Transmission_Table\n",
    "WHERE parent_id=8\n",
    "\n",
    "\"\"\"\n",
    "\n",
    "# Execute queries\n",
    "results_check = con.execute(query_check).df()\n",
    "\n",
    "# Display results\n",
    "results_check.head(10)"
   ]
  }
 ],
 "metadata": {
  "kernelspec": {
   "display_name": "base",
   "language": "python",
   "name": "python3"
  },
  "language_info": {
   "codemirror_mode": {
    "name": "ipython",
    "version": 3
   },
   "file_extension": ".py",
   "mimetype": "text/x-python",
   "name": "python",
   "nbconvert_exporter": "python",
   "pygments_lexer": "ipython3",
   "version": "3.11.5"
  }
 },
 "nbformat": 4,
 "nbformat_minor": 2
}
